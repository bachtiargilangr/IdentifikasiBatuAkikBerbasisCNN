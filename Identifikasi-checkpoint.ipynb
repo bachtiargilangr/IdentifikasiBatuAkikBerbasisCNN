{
 "cells": [
  {
   "cell_type": "code",
   "execution_count": 1,
   "id": "a74995e0",
   "metadata": {},
   "outputs": [],
   "source": [
    "from tensorflow.keras.preprocessing.image import ImageDataGenerator\n",
    "from tensorflow.keras.models import Sequential\n",
    "from tensorflow.keras.layers import Conv2D, Activation, MaxPooling2D, Dropout, Flatten, Dense\n",
    "from keras import backend as K\n",
    "import tensorflow as tf\n",
    "import matplotlib.pyplot as plt\n",
    "import os\n",
    "import cv2\n",
    "import numpy as np\n",
    "import csv\n",
    "from keras.preprocessing import image\n",
    "from tensorflow import keras\n",
    "from tensorflow import lite\n"
   ]
  },
  {
   "cell_type": "code",
   "execution_count": 2,
   "id": "7a569e5c",
   "metadata": {},
   "outputs": [],
   "source": [
    "import Augmentor\n",
    "import os\n",
    "\n",
    "def perbanyak_(ini, sebanyak_ini):\n",
    "  source_dir = ini\n",
    "  output_dir = \".\"\n",
    "  p = Augmentor.Pipeline(source_directory=source_dir, output_directory=output_dir)\n",
    "  p.random_distortion(probability=1, grid_width=4, grid_height=4, magnitude=1)\n",
    "  p.rotate(probability=0.7, max_left_rotation=13, max_right_rotation=13)\n",
    "  p.zoom_random(probability=0.5, percentage_area=0.9)\n",
    "  p.crop_random(probability=0.6, percentage_area=0.9)\n",
    "  p.resize(probability=1.0, width=64, height=64)\n",
    "\n",
    "  p.sample(sebanyak_ini)\n"
   ]
  },
  {
   "cell_type": "code",
   "execution_count": 3,
   "id": "a3dfabed",
   "metadata": {},
   "outputs": [
    {
     "name": "stdout",
     "output_type": "stream",
     "text": [
      "Initialised with 225 image(s) found.\n",
      "Output directory set to batuan\\.."
     ]
    },
    {
     "name": "stderr",
     "output_type": "stream",
     "text": [
      "Processing <PIL.Image.Image image mode=RGBA size=64x64 at 0xF049B0DB70>: 100%|█\n"
     ]
    }
   ],
   "source": [
    "perbanyak_(\"batuan\", 100)"
   ]
  },
  {
   "cell_type": "code",
   "execution_count": 5,
   "id": "37ef525b",
   "metadata": {},
   "outputs": [],
   "source": [
    "img_width, img_height = 64,64\n",
    "nb_train_samples = 300\n",
    "nb_validation_samples = 200\n",
    "epochs = 2\n",
    "batch_size = 32\n",
    "if K.image_data_format()=='channels_first':\n",
    "    input_shape = (3, img_width, img_height)\n",
    "else:\n",
    "    input_shape = (img_width,img_height,3)\n",
    "    "
   ]
  },
  {
   "cell_type": "code",
   "execution_count": 3,
   "id": "395e6125",
   "metadata": {},
   "outputs": [],
   "source": [
    "train_datagen = ImageDataGenerator(rescale=1.0/255.)\n",
    "val_datagen = ImageDataGenerator(rescale=1.0/255.)\n",
    "test_datagen = ImageDataGenerator(rescale=1.0/255.)"
   ]
  },
  {
   "cell_type": "code",
   "execution_count": 4,
   "id": "40f5d128",
   "metadata": {},
   "outputs": [],
   "source": [
    "train_datagen = ImageDataGenerator(rescale=1. / 255,\n",
    "                                   shear_range=0.2,\n",
    "                                   zoom_range=0.2,\n",
    "                                   horizontal_flip=True)\n",
    "\n",
    "val_datagen = ImageDataGenerator(rescale=1. / 255,\n",
    "                                 shear_range=0.2,\n",
    "                                 zoom_range=0.2,\n",
    "                                 horizontal_flip=True)\n",
    "\n",
    "test_datagen = ImageDataGenerator(rescale=1. / 255,\n",
    "                                  shear_range=0.2,\n",
    "                                  zoom_range=0.2,\n",
    "                                  horizontal_flip=True)"
   ]
  },
  {
   "cell_type": "code",
   "execution_count": 19,
   "id": "d1e8c925",
   "metadata": {},
   "outputs": [
    {
     "name": "stdout",
     "output_type": "stream",
     "text": [
      "Found 260 images belonging to 7 classes.\n",
      "Found 33 images belonging to 7 classes.\n",
      "Found 32 images belonging to 7 classes.\n"
     ]
    }
   ],
   "source": [
    "train_generator = train_datagen.flow_from_directory('dataset/train/',\n",
    "                                                    batch_size=batch_size,\n",
    "                                                    class_mode='binary',\n",
    "                                                    target_size=(224,224))\n",
    "val_generator = val_datagen.flow_from_directory('dataset/validation/',\n",
    "                                                    batch_size=batch_size,\n",
    "                                                    class_mode='binary',\n",
    "                                                    target_size=(224,224))\n",
    "test_generator = test_datagen.flow_from_directory('dataset/test/',\n",
    "                                                    batch_size=batch_size,\n",
    "                                                    class_mode='binary',\n",
    "                                                    target_size=(224,224))\n",
    "num_class = test_generator.num_classes\n",
    "labels = train_generator.class_indices.keys()"
   ]
  },
  {
   "cell_type": "code",
   "execution_count": 20,
   "id": "7a2efc5c",
   "metadata": {},
   "outputs": [
    {
     "name": "stdout",
     "output_type": "stream",
     "text": [
      "Found 260 images belonging to 7 classes.\n",
      "Found 33 images belonging to 7 classes.\n",
      "Found 32 images belonging to 7 classes.\n"
     ]
    }
   ],
   "source": [
    "train_generator = train_datagen.flow_from_directory('dataset/train/',\n",
    "                                                    target_size=input_shape,\n",
    "                                                    batch_size=batch_size,\n",
    "                                                    class_mode='categorical',\n",
    "                                                    shuffle=True)\n",
    "\n",
    "val_generator = val_datagen.flow_from_directory('dataset/validation/',\n",
    "                                                target_size=input_shape,\n",
    "                                                batch_size=batch_size,\n",
    "                                                class_mode='categorical',\n",
    "                                                shuffle=True)\n",
    "\n",
    "test_generator = test_datagen.flow_from_directory('dataset/test/',\n",
    "                                                  target_size=input_shape,\n",
    "                                                  batch_size=batch_size,\n",
    "                                                  class_mode='categorical',\n",
    "                                                  shuffle=True)\n",
    "\n",
    "num_class = test_generator.num_classes\n",
    "labels = train_generator.class_indices.keys()"
   ]
  },
  {
   "cell_type": "code",
   "execution_count": 21,
   "id": "8f057ac2",
   "metadata": {},
   "outputs": [],
   "source": [
    "model = Sequential()\n",
    "model.add(Conv2D(128, (3, 3), padding='same', input_shape=input_shape))\n",
    "\n",
    "model.add(Activation('relu'))\n",
    "model.add(Conv2D(16, (3, 3)))\n",
    "model.add(Activation('relu'))\n",
    "model.add(MaxPooling2D(pool_size=(2, 2)))\n",
    "model.add(Dropout(0.25))\n",
    "\n",
    "model.add(Activation('relu'))\n",
    "model.add(Conv2D(32, (3, 3)))\n",
    "model.add(Activation('relu'))\n",
    "model.add(MaxPooling2D(pool_size=(2, 2)))\n",
    "model.add(Dropout(0.25))\n",
    "\n",
    "model.add(Conv2D(64, (3, 3), padding='same'))\n",
    "model.add(Activation('relu'))\n",
    "model.add(Conv2D(64, (3, 3)))\n",
    "model.add(Activation('relu'))\n",
    "model.add(MaxPooling2D(pool_size=(2, 2)))\n",
    "model.add(Dropout(0.25))\n",
    "\n",
    "model.add(Flatten())\n",
    "model.add(Dense(512))\n",
    "model.add(Activation('relu'))\n",
    "model.add(Dropout(0.5))\n",
    "model.add(Dense(num_class))\n",
    "model.add(Activation('softmax'))"
   ]
  },
  {
   "cell_type": "code",
   "execution_count": 7,
   "id": "29102c2b",
   "metadata": {},
   "outputs": [],
   "source": [
    "model = Sequential()\n",
    "model.add(Conv2D(28, (3, 3), activation='relu', input_shape=input_shape))\n",
    "model.add(MaxPooling2D((2, 2)))\n",
    "model.add(Conv2D(56, (3, 3), activation='relu'))\n",
    "model.add(MaxPooling2D((2, 2)))\n",
    "model.add(Conv2D(56, (3, 3), activation='relu'))\n",
    "model.add(Flatten())\n",
    "model.add(Dense(56, activation='relu'))\n",
    "model.add(Dense(62))\n",
    "model.add(Dense(1, activation='sigmoid'))"
   ]
  },
  {
   "cell_type": "code",
   "execution_count": 7,
   "id": "8570038f",
   "metadata": {},
   "outputs": [],
   "source": [
    "pretrained_model3 = tf.keras.applications.DenseNet201(input_shape=(224, 224, 3),\n",
    "                                                          include_top=False, weights='imagenet',\n",
    "                                                          pooling='avg')\n",
    "pretrained_model3.trainable = False\n",
    "inputs3 = pretrained_model3.input\n",
    "x3 = tf.keras.layers.Dense(128, activation='relu')(pretrained_model3.output)\n",
    "outputs3 = tf.keras.layers.Dense(200, activation='softmax')(x3)\n",
    "model = tf.keras.Model(inputs=inputs3, outputs=outputs3)"
   ]
  },
  {
   "cell_type": "code",
   "execution_count": 9,
   "id": "0fde727c",
   "metadata": {},
   "outputs": [
    {
     "name": "stdout",
     "output_type": "stream",
     "text": [
      "Compiling Model.......\n"
     ]
    }
   ],
   "source": [
    "# Compile the model\n",
    "print('Compiling Model.......')\n",
    "model.compile(optimizer='adam',\n",
    "              loss='binary_crossentropy',\n",
    "              metrics=['accuracy'])"
   ]
  },
  {
   "cell_type": "code",
   "execution_count": 22,
   "id": "83da83b0",
   "metadata": {},
   "outputs": [
    {
     "name": "stdout",
     "output_type": "stream",
     "text": [
      "Compiling Model.......\n"
     ]
    }
   ],
   "source": [
    "# Compile the model\n",
    "print('Compiling Model.......')\n",
    "model.compile(optimizer='adam',\n",
    "              loss='categorical_crossentropy',\n",
    "              metrics=['accuracy'])"
   ]
  },
  {
   "cell_type": "code",
   "execution_count": 23,
   "id": "00027c26",
   "metadata": {},
   "outputs": [
    {
     "name": "stdout",
     "output_type": "stream",
     "text": [
      "Model: \"sequential_2\"\n",
      "_________________________________________________________________\n",
      " Layer (type)                Output Shape              Param #   \n",
      "=================================================================\n",
      " conv2d_8 (Conv2D)           (None, 64, 64, 128)       3584      \n",
      "                                                                 \n",
      " activation_8 (Activation)   (None, 64, 64, 128)       0         \n",
      "                                                                 \n",
      " conv2d_9 (Conv2D)           (None, 62, 62, 16)        18448     \n",
      "                                                                 \n",
      " activation_9 (Activation)   (None, 62, 62, 16)        0         \n",
      "                                                                 \n",
      " max_pooling2d_5 (MaxPooling  (None, 31, 31, 16)       0         \n",
      " 2D)                                                             \n",
      "                                                                 \n",
      " dropout_4 (Dropout)         (None, 31, 31, 16)        0         \n",
      "                                                                 \n",
      " activation_10 (Activation)  (None, 31, 31, 16)        0         \n",
      "                                                                 \n",
      " conv2d_10 (Conv2D)          (None, 29, 29, 32)        4640      \n",
      "                                                                 \n",
      " activation_11 (Activation)  (None, 29, 29, 32)        0         \n",
      "                                                                 \n",
      " max_pooling2d_6 (MaxPooling  (None, 14, 14, 32)       0         \n",
      " 2D)                                                             \n",
      "                                                                 \n",
      " dropout_5 (Dropout)         (None, 14, 14, 32)        0         \n",
      "                                                                 \n",
      " conv2d_11 (Conv2D)          (None, 14, 14, 64)        18496     \n",
      "                                                                 \n",
      " activation_12 (Activation)  (None, 14, 14, 64)        0         \n",
      "                                                                 \n",
      " conv2d_12 (Conv2D)          (None, 12, 12, 64)        36928     \n",
      "                                                                 \n",
      " activation_13 (Activation)  (None, 12, 12, 64)        0         \n",
      "                                                                 \n",
      " max_pooling2d_7 (MaxPooling  (None, 6, 6, 64)         0         \n",
      " 2D)                                                             \n",
      "                                                                 \n",
      " dropout_6 (Dropout)         (None, 6, 6, 64)          0         \n",
      "                                                                 \n",
      " flatten_2 (Flatten)         (None, 2304)              0         \n",
      "                                                                 \n",
      " dense_5 (Dense)             (None, 512)               1180160   \n",
      "                                                                 \n",
      " activation_14 (Activation)  (None, 512)               0         \n",
      "                                                                 \n",
      " dropout_7 (Dropout)         (None, 512)               0         \n",
      "                                                                 \n",
      " dense_6 (Dense)             (None, 7)                 3591      \n",
      "                                                                 \n",
      " activation_15 (Activation)  (None, 7)                 0         \n",
      "                                                                 \n",
      "=================================================================\n",
      "Total params: 1,265,847\n",
      "Trainable params: 1,265,847\n",
      "Non-trainable params: 0\n",
      "_________________________________________________________________\n"
     ]
    }
   ],
   "source": [
    "model.summary()"
   ]
  },
  {
   "cell_type": "code",
   "execution_count": 26,
   "id": "79ac18bf",
   "metadata": {},
   "outputs": [
    {
     "name": "stdout",
     "output_type": "stream",
     "text": [
      "Epoch 1/20\n",
      "9/9 [==============================] - 37s 4s/step - loss: 1.0152 - accuracy: 0.5846 - val_loss: 1.0048 - val_accuracy: 0.5758\n",
      "Epoch 2/20\n",
      "9/9 [==============================] - 37s 4s/step - loss: 0.8300 - accuracy: 0.6846 - val_loss: 1.1056 - val_accuracy: 0.6061\n",
      "Epoch 3/20\n",
      "9/9 [==============================] - 38s 4s/step - loss: 0.7524 - accuracy: 0.6885 - val_loss: 1.0361 - val_accuracy: 0.4848\n",
      "Epoch 4/20\n",
      "9/9 [==============================] - 36s 4s/step - loss: 0.7383 - accuracy: 0.7000 - val_loss: 0.9527 - val_accuracy: 0.6667\n",
      "Epoch 5/20\n",
      "9/9 [==============================] - 37s 4s/step - loss: 0.6934 - accuracy: 0.7846 - val_loss: 0.9759 - val_accuracy: 0.6061\n",
      "Epoch 6/20\n",
      "9/9 [==============================] - 37s 4s/step - loss: 0.6821 - accuracy: 0.6923 - val_loss: 0.8141 - val_accuracy: 0.7273\n",
      "Epoch 7/20\n",
      "9/9 [==============================] - 37s 4s/step - loss: 0.5457 - accuracy: 0.7846 - val_loss: 0.7020 - val_accuracy: 0.6970\n",
      "Epoch 8/20\n",
      "9/9 [==============================] - 37s 4s/step - loss: 0.5075 - accuracy: 0.8038 - val_loss: 0.6331 - val_accuracy: 0.7576\n",
      "Epoch 9/20\n",
      "9/9 [==============================] - 37s 4s/step - loss: 0.4515 - accuracy: 0.8500 - val_loss: 0.5105 - val_accuracy: 0.7576\n",
      "Epoch 10/20\n",
      "9/9 [==============================] - 38s 4s/step - loss: 0.3561 - accuracy: 0.8808 - val_loss: 0.4785 - val_accuracy: 0.8182\n",
      "Epoch 11/20\n",
      "9/9 [==============================] - 38s 4s/step - loss: 0.3369 - accuracy: 0.8808 - val_loss: 0.6999 - val_accuracy: 0.7879\n",
      "Epoch 12/20\n",
      "9/9 [==============================] - 39s 4s/step - loss: 0.4105 - accuracy: 0.8577 - val_loss: 0.6081 - val_accuracy: 0.7273\n",
      "Epoch 13/20\n",
      "9/9 [==============================] - 38s 4s/step - loss: 0.3433 - accuracy: 0.8577 - val_loss: 0.6017 - val_accuracy: 0.6970\n",
      "Epoch 14/20\n",
      "9/9 [==============================] - 37s 4s/step - loss: 0.2668 - accuracy: 0.8962 - val_loss: 0.3751 - val_accuracy: 0.8788\n",
      "Epoch 15/20\n",
      "9/9 [==============================] - 37s 4s/step - loss: 0.2833 - accuracy: 0.9000 - val_loss: 0.4704 - val_accuracy: 0.8485\n",
      "Epoch 16/20\n",
      "9/9 [==============================] - 37s 4s/step - loss: 0.2555 - accuracy: 0.9192 - val_loss: 0.8840 - val_accuracy: 0.7273\n",
      "Epoch 17/20\n",
      "9/9 [==============================] - 37s 4s/step - loss: 0.4923 - accuracy: 0.8115 - val_loss: 0.8561 - val_accuracy: 0.6061\n",
      "Epoch 18/20\n",
      "9/9 [==============================] - 37s 4s/step - loss: 0.4412 - accuracy: 0.8385 - val_loss: 0.6368 - val_accuracy: 0.7879\n",
      "Epoch 19/20\n",
      "9/9 [==============================] - 38s 4s/step - loss: 0.4081 - accuracy: 0.8500 - val_loss: 0.6356 - val_accuracy: 0.7576\n",
      "Epoch 20/20\n",
      "9/9 [==============================] - 37s 4s/step - loss: 0.3207 - accuracy: 0.8962 - val_loss: 0.5243 - val_accuracy: 0.8182\n"
     ]
    }
   ],
   "source": [
    "history = model.fit(train_generator,\n",
    "                    validation_data=val_generator,\n",
    "                    steps_per_epoch=len(train_generator), \n",
    "                    epochs=20,\n",
    "                    validation_steps=len(val_generator),\n",
    "                    shuffle=True,\n",
    "                    verbose = 1)"
   ]
  },
  {
   "cell_type": "code",
   "execution_count": 27,
   "id": "b9cd30d6",
   "metadata": {},
   "outputs": [
    {
     "data": {
      "image/png": "[encoded data removed]",
      "text/plain": [
       "<Figure size 432x288 with 1 Axes>"
      ]
     },
     "metadata": {
      "needs_background": "light"
     },
     "output_type": "display_data"
    }
   ],
   "source": [
    "from matplotlib import pyplot as plt\n",
    "# Plot history: MAE\n",
    "plt.plot(history.history['loss'], label='Training Loss')\n",
    "plt.plot(history.history['val_loss'], label='Validation Loss')\n",
    "plt.title('Training and Validation Loss')\n",
    "plt.ylabel('value')\n",
    "plt.xlabel('No. epoch')\n",
    "plt.legend(loc=\"upper left\")\n",
    "plt.show()"
   ]
  },
  {
   "cell_type": "code",
   "execution_count": 28,
   "id": "9b04ec08",
   "metadata": {},
   "outputs": [
    {
     "data": {
      "image/png": "[encoded data removed]",
      "text/plain": [
       "<Figure size 432x288 with 1 Axes>"
      ]
     },
     "metadata": {
      "needs_background": "light"
     },
     "output_type": "display_data"
    }
   ],
   "source": [
    "# Plot history: MSE\n",
    "plt.plot(history.history['accuracy'], label='Training Accuracy')\n",
    "plt.plot(history.history['val_accuracy'], label='Validation Accuracy')\n",
    "plt.title('Training and Validation Accuracy')\n",
    "plt.ylabel('value')\n",
    "plt.xlabel('No. epoch')\n",
    "plt.legend(loc=\"upper left\")\n",
    "plt.show()"
   ]
  },
  {
   "cell_type": "code",
   "execution_count": 29,
   "id": "cf201666",
   "metadata": {},
   "outputs": [
    {
     "name": "stdout",
     "output_type": "stream",
     "text": [
      "Saving Model At model\\batuan\\model_batuan.h5...\n"
     ]
    }
   ],
   "source": [
    "MODEL_BASE_PATH = \"model\"\n",
    "PROJECT_NAME = \"batuan\"\n",
    "SAVE_MODEL_NAME = \"model_batuan.h5\"\n",
    "save_model_path = os.path.join(MODEL_BASE_PATH, PROJECT_NAME, SAVE_MODEL_NAME)\n",
    "\n",
    "if os.path.exists(os.path.join(MODEL_BASE_PATH, PROJECT_NAME)) == False:\n",
    "    os.makedirs(os.path.join(MODEL_BASE_PATH, PROJECT_NAME))\n",
    "    \n",
    "print('Saving Model At {}...'.format(save_model_path))\n",
    "model.save(save_model_path,include_optimizer=False)    \n",
    "    "
   ]
  },
  {
   "cell_type": "code",
   "execution_count": null,
   "id": "2ece5084",
   "metadata": {},
   "outputs": [],
   "source": []
  }
 ],
 "metadata": {
  "kernelspec": {
   "display_name": "Python 3 (ipykernel)",
   "language": "python",
   "name": "python3"
  },
  "language_info": {
   "codemirror_mode": {
    "name": "ipython",
    "version": 3
   },
   "file_extension": ".py",
   "mimetype": "text/x-python",
   "name": "python",
   "nbconvert_exporter": "python",
   "pygments_lexer": "ipython3",
   "version": "3.10.1"
  }
 },
 "nbformat": 4,
 "nbformat_minor": 5
}
