{
 "cells": [
  {
   "cell_type": "code",
   "execution_count": 21,
   "id": "215a97c1",
   "metadata": {},
   "outputs": [],
   "source": [
    "from tensorflow.keras.preprocessing.image import ImageDataGenerator\n",
    "from tensorflow.keras.models import Sequential\n",
    "from tensorflow.keras.layers import Conv2D, Activation, MaxPooling2D, Dropout, Flatten, Dense\n",
    "from keras import backend as K\n",
    "import tensorflow as tf\n",
    "import matplotlib.pyplot as plt\n",
    "import os\n",
    "import cv2\n",
    "import numpy as np\n",
    "import csv\n",
    "import pandas as pd\n",
    "from keras.preprocessing import image\n",
    "from tensorflow import keras\n",
    "from tensorflow import lite\n",
    "#load library untuk train test split\n",
    "from sklearn.model_selection import train_test_split\n",
    "import shutil\n",
    "from tqdm.notebook import tqdm as tq\n"
   ]
  },
  {
   "cell_type": "code",
   "execution_count": 2,
   "id": "cd46eb49",
   "metadata": {},
   "outputs": [
    {
     "name": "stdout",
     "output_type": "stream",
     "text": [
      "Initialised with 1032 image(s) found.\n",
      "Output directory set to batuan/giokhijau\\.."
     ]
    },
    {
     "name": "stderr",
     "output_type": "stream",
     "text": [
      "Processing <PIL.Image.Image image mode=RGBA size=64x64 at 0x230785AB640>: 100%|█| 1000/1000 [00:09<00:00, 109.48 Sample\n"
     ]
    },
    {
     "name": "stdout",
     "output_type": "stream",
     "text": [
      "Initialised with 1008 image(s) found.\n",
      "Output directory set to batuan/kecubungungu\\.."
     ]
    },
    {
     "name": "stderr",
     "output_type": "stream",
     "text": [
      "Processing <PIL.Image.Image image mode=RGBA size=64x64 at 0x230786D4BE0>: 100%|█| 1000/1000 [00:11<00:00, 86.74 Samples\n"
     ]
    }
   ],
   "source": [
    "import Augmentor\n",
    "import os\n",
    "\n",
    "def perbanyak_(ini, sebanyak_ini):\n",
    "    source_dir = ini\n",
    "    output_dir = \".\"\n",
    "    p = Augmentor.Pipeline(source_directory=source_dir, output_directory=output_dir)\n",
    "    #p.random_distortion(probability=1, grid_width=4, grid_height=4, magnitude=1)\n",
    "    p.rotate(probability=0.7, max_left_rotation=13, max_right_rotation=13)\n",
    "    p.zoom_random(probability=0.5, percentage_area=0.9)\n",
    "    p.crop_random(probability=0.6, percentage_area=0.9)\n",
    "    p.resize(probability=1.0, width=64, height=64)\n",
    "\n",
    "    p.sample(sebanyak_ini)\n",
    "\n",
    "perbanyak_(\"batuan/giokhijau\", 1000)\n",
    "perbanyak_(\"batuan/kecubungungu\", 1000)"
   ]
  },
  {
   "cell_type": "code",
   "execution_count": null,
   "id": "9c4bbc6b",
   "metadata": {},
   "outputs": [],
   "source": [
    "import cv2\n",
    "import glob\n",
    "import random \n",
    "import numpy as np\n",
    "\n",
    "x=[]\n",
    "y=[]\n",
    "\n",
    "for gambar in glob.glob(\"batuan/batukali/*\"):\n",
    "    ini=cv2.imread(gambar)\n",
    "    ini=cv2.resize(ini,(64,64))/255\n",
    "    x.append(ini)\n",
    "    y.append(0)\n",
    "for gambar in glob.glob(\"batuan/badarbesi/*\"):\n",
    "    ini=cv2.imread(gambar)\n",
    "    ini=cv2.resize(ini,(64,64))/255\n",
    "    x.append(ini)\n",
    "    y.append(1)\n",
    "for gambar in glob.glob(\"batuan/badarlumut/*\"):\n",
    "    ini=cv2.imread(gambar)\n",
    "    ini=cv2.resize(ini,(64,64))/255\n",
    "    x.append(ini)\n",
    "    y.append(2)\n",
    "for gambar in glob.glob(\"batuan/giokhijau/*\"):\n",
    "    ini=cv2.imread(gambar)\n",
    "    ini=cv2.resize(ini,(64,64))/255\n",
    "    x.append(ini)\n",
    "    y.append(3)\n",
    "for gambar in glob.glob(\"batuan/giokbiru/*\"):\n",
    "    ini=cv2.imread(gambar)\n",
    "    ini=cv2.resize(ini,(64,64))/255\n",
    "    x.append(ini)\n",
    "    y.append(4)\n",
    "for gambar in glob.glob(\"batuan/giokmerah/*\"):\n",
    "    ini=cv2.imread(gambar)\n",
    "    ini=cv2.resize(ini,(64,64))/255\n",
    "    x.append(ini)\n",
    "    y.append(5)\n",
    "for gambar in glob.glob(\"batuan/kecubungungu/*\"):\n",
    "    ini=cv2.imread(gambar)\n",
    "    ini=cv2.resize(ini,(64,64))/255\n",
    "    x.append(ini)\n",
    "    y.append(6)\n",
    "\n",
    "z = list(zip(x, y))\n",
    "random.shuffle(z)\n",
    "x, y = zip(*z)\n",
    "x = np.asarray(x)\n",
    "y = np.asarray(y)"
   ]
  },
  {
   "cell_type": "code",
   "execution_count": null,
   "id": "6ae46090",
   "metadata": {},
   "outputs": [],
   "source": [
    "x.shape"
   ]
  },
  {
   "cell_type": "code",
   "execution_count": null,
   "id": "5f23c538",
   "metadata": {},
   "outputs": [],
   "source": [
    "y"
   ]
  },
  {
   "cell_type": "code",
   "execution_count": 22,
   "id": "0a39ba91",
   "metadata": {},
   "outputs": [
    {
     "name": "stdout",
     "output_type": "stream",
     "text": [
      "Model: \"sequential_1\"\n",
      "_________________________________________________________________\n",
      " Layer (type)                Output Shape              Param #   \n",
      "=================================================================\n",
      " conv2d_6 (Conv2D)           (None, 62, 62, 16)        448       \n",
      "                                                                 \n",
      " conv2d_7 (Conv2D)           (None, 60, 60, 16)        2320      \n",
      "                                                                 \n",
      " max_pooling2d_3 (MaxPooling  (None, 30, 30, 16)       0         \n",
      " 2D)                                                             \n",
      "                                                                 \n",
      " conv2d_8 (Conv2D)           (None, 28, 28, 32)        4640      \n",
      "                                                                 \n",
      " conv2d_9 (Conv2D)           (None, 26, 26, 32)        9248      \n",
      "                                                                 \n",
      " max_pooling2d_4 (MaxPooling  (None, 13, 13, 32)       0         \n",
      " 2D)                                                             \n",
      "                                                                 \n",
      " conv2d_10 (Conv2D)          (None, 11, 11, 64)        18496     \n",
      "                                                                 \n",
      " conv2d_11 (Conv2D)          (None, 9, 9, 64)          36928     \n",
      "                                                                 \n",
      " max_pooling2d_5 (MaxPooling  (None, 4, 4, 64)         0         \n",
      " 2D)                                                             \n",
      "                                                                 \n",
      " flatten_1 (Flatten)         (None, 1024)              0         \n",
      "                                                                 \n",
      " dense_2 (Dense)             (None, 32)                32800     \n",
      "                                                                 \n",
      " dense_3 (Dense)             (None, 7)                 231       \n",
      "                                                                 \n",
      "=================================================================\n",
      "Total params: 105,111\n",
      "Trainable params: 105,111\n",
      "Non-trainable params: 0\n",
      "_________________________________________________________________\n"
     ]
    }
   ],
   "source": [
    "from tensorflow.keras.models import Sequential\n",
    "from tensorflow.keras.layers import Conv2D, MaxPooling2D, Flatten, Dense\n",
    "\n",
    "model = Sequential()\n",
    "\n",
    "model.add(Conv2D(16, (3, 3), input_shape=(64,64,3), activation=\"relu\"))\n",
    "model.add(Conv2D(16, (3, 3), activation=\"relu\"))\n",
    "model.add(MaxPooling2D(pool_size=(2, 2)))\n",
    "\n",
    "model.add(Conv2D(32, (3,3), activation=\"relu\"))\n",
    "model.add(Conv2D(32, (3,3), activation=\"relu\"))\n",
    "model.add(MaxPooling2D(pool_size=(2, 2)))\n",
    "\n",
    "\n",
    "model.add(Conv2D(64, (3, 3), activation='relu'))\n",
    "model.add(Conv2D(64, (3, 3), activation='relu'))\n",
    "model.add(MaxPooling2D(pool_size=(2, 2)))\n",
    "\n",
    "\n",
    "model.add(Flatten())\n",
    "model.add(Dense(32, activation=\"relu\"))\n",
    "model.add(Dense(7, activation=\"softmax\"))\n",
    "\n",
    "\n",
    "model.compile(optimizer=\"adam\", loss=\"sparse_categorical_crossentropy\", metrics=[\"accuracy\"])\n",
    "model.summary()"
   ]
  },
  {
   "cell_type": "code",
   "execution_count": null,
   "id": "39e1023a",
   "metadata": {},
   "outputs": [],
   "source": [
    "history = model.fit(x,y,batch_size=2, epochs=20, validation_split=0.2)"
   ]
  },
  {
   "cell_type": "code",
   "execution_count": null,
   "id": "00e9a293",
   "metadata": {},
   "outputs": [],
   "source": [
    "from matplotlib import pyplot as plt\n",
    "# Plot history: MAE\n",
    "plt.plot(history.history['loss'], label='Training Loss')\n",
    "plt.plot(history.history['val_loss'], label='Validation Loss')\n",
    "plt.title('Training and Validation Loss')\n",
    "plt.ylabel('value')\n",
    "plt.xlabel('No. epoch')\n",
    "plt.legend(loc=\"upper left\")\n",
    "plt.show()"
   ]
  },
  {
   "cell_type": "code",
   "execution_count": null,
   "id": "3db2abcd",
   "metadata": {},
   "outputs": [],
   "source": [
    "# Plot history: MSE\n",
    "plt.plot(history.history['accuracy'], label='Training Accuracy')\n",
    "plt.plot(history.history['val_accuracy'], label='Validation Accuracy')\n",
    "plt.title('Training and Validation Accuracy')\n",
    "plt.ylabel('value')\n",
    "plt.xlabel('No. epoch')\n",
    "plt.legend(loc=\"upper left\")\n",
    "plt.show()"
   ]
  },
  {
   "cell_type": "code",
   "execution_count": null,
   "id": "dec20d5c",
   "metadata": {},
   "outputs": [],
   "source": [
    "model.save('percobaan1.h5')"
   ]
  },
  {
   "cell_type": "code",
   "execution_count": 23,
   "id": "845f0e00",
   "metadata": {},
   "outputs": [],
   "source": [
    "model.load_weights('percobaan1.h5')"
   ]
  },
  {
   "cell_type": "code",
   "execution_count": 24,
   "id": "063bf2e1",
   "metadata": {},
   "outputs": [],
   "source": [
    "import cv2\n",
    "import glob\n",
    "import random \n",
    "import numpy as np\n",
    "\n",
    "x=[]\n",
    "y=[]\n",
    "\n",
    "for gambar in glob.glob(\"dataset/test/batukali/*\"):\n",
    "    ini=cv2.imread(gambar)\n",
    "    ini=cv2.resize(ini,(64,64))/255\n",
    "    x.append(ini)\n",
    "    y.append(0)\n",
    "for gambar in glob.glob(\"dataset/test/badarbesi/*\"):\n",
    "    ini=cv2.imread(gambar)\n",
    "    ini=cv2.resize(ini,(64,64))/255\n",
    "    x.append(ini)\n",
    "    y.append(1)\n",
    "for gambar in glob.glob(\"dataset/test/badarlumut/*\"):\n",
    "    ini=cv2.imread(gambar)\n",
    "    ini=cv2.resize(ini,(64,64))/255\n",
    "    x.append(ini)\n",
    "    y.append(2)\n",
    "for gambar in glob.glob(\"dataset/test/giokhijau/*\"):\n",
    "    ini=cv2.imread(gambar)\n",
    "    ini=cv2.resize(ini,(64,64))/255\n",
    "    x.append(ini)\n",
    "    y.append(3)\n",
    "for gambar in glob.glob(\"dataset/test/giokbiru/*\"):\n",
    "    ini=cv2.imread(gambar)\n",
    "    ini=cv2.resize(ini,(64,64))/255\n",
    "    x.append(ini)\n",
    "    y.append(4)\n",
    "for gambar in glob.glob(\"dataset/test/giokmerah/*\"):\n",
    "    ini=cv2.imread(gambar)\n",
    "    ini=cv2.resize(ini,(64,64))/255\n",
    "    x.append(ini)\n",
    "    y.append(5)\n",
    "for gambar in glob.glob(\"dataset/test/kecubungungu/*\"):\n",
    "    ini=cv2.imread(gambar)\n",
    "    ini=cv2.resize(ini,(64,64))/255\n",
    "    x.append(ini)\n",
    "    y.append(6)\n",
    "\n"
   ]
  },
  {
   "cell_type": "code",
   "execution_count": 25,
   "id": "fec72759",
   "metadata": {},
   "outputs": [
    {
     "name": "stdout",
     "output_type": "stream",
     "text": [
      "2/2 [==============================] - 1s 78ms/step\n"
     ]
    }
   ],
   "source": [
    "import numpy as np\n",
    "from sklearn.metrics import accuracy_score,confusion_matrix\n",
    "\n",
    "ypred = model.predict(np.asarray(x))\n",
    "ypred = np.argmax(ypred, axis=1)"
   ]
  },
  {
   "cell_type": "code",
   "execution_count": 26,
   "id": "8bc20c3c",
   "metadata": {},
   "outputs": [
    {
     "data": {
      "text/plain": [
       "0.8571428571428571"
      ]
     },
     "execution_count": 26,
     "metadata": {},
     "output_type": "execute_result"
    }
   ],
   "source": [
    "accuracy_score(ypred,y)"
   ]
  },
  {
   "cell_type": "code",
   "execution_count": 27,
   "id": "2596e7f2",
   "metadata": {},
   "outputs": [
    {
     "data": {
      "text/plain": [
       "<matplotlib.image.AxesImage at 0x1596b48e320>"
      ]
     },
     "execution_count": 27,
     "metadata": {},
     "output_type": "execute_result"
    },
    {
     "data": {
      "image/png": "[encoded data removed]",
      "text/plain": [
       "<Figure size 432x288 with 1 Axes>"
      ]
     },
     "metadata": {
      "needs_background": "light"
     },
     "output_type": "display_data"
    }
   ],
   "source": [
    "cm= confusion_matrix(ypred,y)\n",
    "plt.imshow(cm)"
   ]
  },
  {
   "cell_type": "code",
   "execution_count": 29,
   "id": "74a9124c",
   "metadata": {},
   "outputs": [
    {
     "data": {
      "text/plain": [
       "array([[4, 0, 0, 0, 0, 0, 0],\n",
       "       [1, 5, 1, 0, 0, 0, 0],\n",
       "       [0, 0, 5, 0, 0, 0, 0],\n",
       "       [0, 0, 0, 7, 0, 0, 0],\n",
       "       [0, 0, 0, 0, 7, 0, 0],\n",
       "       [1, 1, 1, 0, 0, 7, 0],\n",
       "       [1, 1, 0, 0, 0, 0, 7]], dtype=int64)"
      ]
     },
     "execution_count": 29,
     "metadata": {},
     "output_type": "execute_result"
    }
   ],
   "source": [
    "cm"
   ]
  },
  {
   "cell_type": "code",
   "execution_count": null,
   "id": "abf254aa",
   "metadata": {},
   "outputs": [],
   "source": []
  }
 ],
 "metadata": {
  "kernelspec": {
   "display_name": "Python 3 (ipykernel)",
   "language": "python",
   "name": "python3"
  },
  "language_info": {
   "codemirror_mode": {
    "name": "ipython",
    "version": 3
   },
   "file_extension": ".py",
   "mimetype": "text/x-python",
   "name": "python",
   "nbconvert_exporter": "python",
   "pygments_lexer": "ipython3",
   "version": "3.10.1"
  }
 },
 "nbformat": 4,
 "nbformat_minor": 5
}
