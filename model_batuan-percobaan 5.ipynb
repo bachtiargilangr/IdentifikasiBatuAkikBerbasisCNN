{
 "cells": [
  {
   "cell_type": "code",
   "execution_count": 9,
   "id": "215a97c1",
   "metadata": {},
   "outputs": [],
   "source": [
    "from tensorflow.keras.preprocessing.image import ImageDataGenerator\n",
    "from tensorflow.keras.models import Sequential\n",
    "from tensorflow.keras.layers import Conv2D, Activation, MaxPooling2D, Dropout, Flatten, Dense\n",
    "from keras import backend as K\n",
    "import tensorflow as tf\n",
    "import matplotlib.pyplot as plt\n",
    "import os\n",
    "import cv2\n",
    "import numpy as np\n",
    "import csv\n",
    "import pandas as pd\n",
    "from keras.preprocessing import image\n",
    "from tensorflow import keras\n",
    "from tensorflow import lite\n",
    "#load library untuk train test split\n",
    "from sklearn.model_selection import train_test_split\n",
    "import shutil\n",
    "from tqdm.notebook import tqdm as tq\n"
   ]
  },
  {
   "cell_type": "code",
   "execution_count": 7,
   "id": "83ce1627",
   "metadata": {},
   "outputs": [
    {
     "name": "stdout",
     "output_type": "stream",
     "text": [
      "Initialised with 38 image(s) found.\n",
      "Output directory set to batuan/giokhijau\\.."
     ]
    },
    {
     "name": "stderr",
     "output_type": "stream",
     "text": [
      "Processing <PIL.Image.Image image mode=RGBA size=64x64 at 0x15349CA5BD0>: 100%|█| 1000/1000 [00:07<00:00, 133.78 Sample\n"
     ]
    },
    {
     "name": "stdout",
     "output_type": "stream",
     "text": [
      "Initialised with 22 image(s) found.\n",
      "Output directory set to batuan/kecubungungu\\.."
     ]
    },
    {
     "name": "stderr",
     "output_type": "stream",
     "text": [
      "Processing <PIL.Image.Image image mode=RGBA size=64x64 at 0x153494459F0>: 100%|█| 1000/1000 [00:05<00:00, 172.96 Sample\n"
     ]
    }
   ],
   "source": [
    "'''\n",
    "import Augmentor\n",
    "import os\n",
    "\n",
    "def perbanyak_(ini, sebanyak_ini):\n",
    "    source_dir = ini\n",
    "    output_dir = \".\"\n",
    "    p = Augmentor.Pipeline(source_directory=source_dir, output_directory=output_dir)\n",
    "    #p.random_distortion(probability=1, grid_width=4, grid_height=4, magnitude=1)\n",
    "    p.rotate(probability=0.7, max_left_rotation=13, max_right_rotation=13)\n",
    "    p.zoom_random(probability=0.5, percentage_area=0.9)\n",
    "    p.crop_random(probability=0.6, percentage_area=0.9)\n",
    "    p.resize(probability=1.0, width=64, height=64)\n",
    "\n",
    "    p.sample(sebanyak_ini)\n",
    "\n",
    "perbanyak_(\"batuan/giokhijau\", 1000)\n",
    "perbanyak_(\"batuan/kecubungungu\", 1000)\n",
    "'''\n"
   ]
  },
  {
   "cell_type": "code",
   "execution_count": 8,
   "id": "9c4bbc6b",
   "metadata": {},
   "outputs": [],
   "source": [
    "import cv2\n",
    "import glob\n",
    "import random \n",
    "import numpy as np\n",
    "\n",
    "x=[]\n",
    "y=[]\n",
    "\n",
    "for gambar in glob.glob(\"batuan/batukali/*\"):\n",
    "    ini=cv2.imread(gambar)\n",
    "    ini=cv2.resize(ini,(64,64))/255\n",
    "    x.append(ini)\n",
    "    y.append(0)\n",
    "for gambar in glob.glob(\"batuan/badarbesi/*\"):\n",
    "    ini=cv2.imread(gambar)\n",
    "    ini=cv2.resize(ini,(64,64))/255\n",
    "    x.append(ini)\n",
    "    y.append(1)\n",
    "for gambar in glob.glob(\"batuan/badarlumut/*\"):\n",
    "    ini=cv2.imread(gambar)\n",
    "    ini=cv2.resize(ini,(64,64))/255\n",
    "    x.append(ini)\n",
    "    y.append(2)\n",
    "for gambar in glob.glob(\"batuan/giokhijau/*\"):\n",
    "    ini=cv2.imread(gambar)\n",
    "    ini=cv2.resize(ini,(64,64))/255\n",
    "    x.append(ini)\n",
    "    y.append(3)\n",
    "for gambar in glob.glob(\"batuan/giokbiru/*\"):\n",
    "    ini=cv2.imread(gambar)\n",
    "    ini=cv2.resize(ini,(64,64))/255\n",
    "    x.append(ini)\n",
    "    y.append(4)\n",
    "for gambar in glob.glob(\"batuan/giokmerah/*\"):\n",
    "    ini=cv2.imread(gambar)\n",
    "    ini=cv2.resize(ini,(64,64))/255\n",
    "    x.append(ini)\n",
    "    y.append(5)\n",
    "for gambar in glob.glob(\"batuan/kecubungungu/*\"):\n",
    "    ini=cv2.imread(gambar)\n",
    "    ini=cv2.resize(ini,(64,64))/255\n",
    "    x.append(ini)\n",
    "    y.append(6)\n",
    "\n",
    "z = list(zip(x, y))\n",
    "random.shuffle(z)\n",
    "x, y = zip(*z)\n",
    "x = np.asarray(x)\n",
    "y = np.asarray(y)"
   ]
  },
  {
   "cell_type": "code",
   "execution_count": 15,
   "id": "6f52bf9a",
   "metadata": {},
   "outputs": [
    {
     "data": {
      "text/plain": [
       "(7154, 64, 64, 3)"
      ]
     },
     "execution_count": 15,
     "metadata": {},
     "output_type": "execute_result"
    }
   ],
   "source": [
    "x.shape"
   ]
  },
  {
   "cell_type": "code",
   "execution_count": 13,
   "id": "3a180c25",
   "metadata": {},
   "outputs": [
    {
     "data": {
      "text/plain": [
       "array([3, 3, 3, 3, 1, 1, 1, 5, 3, 1, 3, 1, 3, 2, 3, 1, 3, 1, 3, 1, 5, 1,\n",
       "       4, 2, 1, 1, 5, 1, 2, 5, 3, 1, 3, 5, 4, 1, 1, 1, 1, 5, 0, 1, 3, 3,\n",
       "       5, 5, 2, 4, 1, 1, 1, 5, 1, 1, 4, 1, 3, 1, 1, 3, 1, 1, 1, 1, 1, 4,\n",
       "       1, 0, 0, 1, 0, 3, 1, 1, 1, 1, 1, 1, 4, 1, 4, 5, 5, 3, 1, 1, 3, 3,\n",
       "       1, 1, 1, 1, 1, 3, 4, 2, 4, 1, 5, 4, 1, 1, 1, 1, 3, 1, 1, 2, 1, 1,\n",
       "       1, 1, 3, 4, 1, 4, 3, 3, 1, 2, 3, 1, 1, 1, 0, 3, 4, 1, 3, 3, 1, 2,\n",
       "       3, 1, 3, 1, 1, 1, 3, 0, 5, 1, 0, 4, 3, 1, 1, 0, 3, 3, 1, 2, 5, 5,\n",
       "       3, 4, 3, 0, 4, 2, 0, 1, 3, 1, 1, 2, 3, 3, 1, 1, 1, 3, 3, 1, 3, 5,\n",
       "       1, 2, 3, 1, 4, 1, 1, 2, 4, 1, 5, 3, 5, 1, 1, 1, 4, 4, 4, 3, 2, 4,\n",
       "       3, 1, 1, 3, 3, 3, 0, 5, 3, 0, 1, 3, 5, 1, 3, 1, 4, 3, 4, 0, 3, 5,\n",
       "       1, 1, 2, 5, 1, 0, 1, 4, 1, 3, 2, 4, 2, 5, 3, 5, 3, 5, 3, 5, 1, 1,\n",
       "       1, 1, 0, 1, 1, 1, 5, 3, 1, 1, 5, 3, 1, 5, 1, 3, 1, 1, 1, 1, 1, 1,\n",
       "       1, 2, 5, 5, 1, 3, 1, 5, 5, 3, 3, 1, 5, 2, 1, 1, 4, 1, 5, 1, 1, 5,\n",
       "       2, 1, 4, 1, 1, 5, 3, 1, 3, 4, 1, 5, 3, 3, 1, 4, 5, 1, 3, 3, 3, 1,\n",
       "       4, 1, 3, 3, 1, 1, 3, 2, 1, 1, 0, 5, 5, 3, 1, 3, 1, 0, 1, 1, 1, 2,\n",
       "       1, 4, 4, 1, 5, 1, 1, 3, 5, 4, 5, 2, 1, 2, 1, 0, 1, 1, 4, 1, 3, 4,\n",
       "       1, 3, 4, 3, 0, 1, 1, 2, 3, 4, 1, 4, 1, 3, 1, 4, 4, 1, 1, 3, 1, 2,\n",
       "       1, 1, 4, 1, 1, 1, 1, 1, 3, 1, 3, 1, 1, 3, 1, 1, 1, 3, 4, 3, 3, 4,\n",
       "       0, 1, 3, 3, 1, 1, 1, 3, 1, 3, 4, 4, 3, 3, 1, 1, 3, 1, 1, 3, 3, 5,\n",
       "       4, 4, 1, 5, 2, 3, 2, 1, 2, 3, 3, 1, 4, 2, 3, 1, 5, 1, 3, 4, 1, 1,\n",
       "       3, 2, 4, 1, 1, 1, 1, 3, 1, 1, 1, 4, 1, 1, 3, 1, 1, 2, 0, 0, 4, 1,\n",
       "       2, 1, 2, 4, 4, 1, 1, 3, 4, 3, 3, 1, 2, 4, 0, 5, 1, 3, 1, 4, 1, 4,\n",
       "       3, 2, 5, 5, 1, 1, 1, 1, 1, 1, 5, 2, 3, 3, 1, 3, 4, 3, 4, 3, 3, 3,\n",
       "       0, 3, 1, 1, 3, 0, 2, 1, 1, 3, 1, 2, 5, 1, 3, 1, 1, 1, 3, 1, 1, 1,\n",
       "       3, 4, 1, 2, 4, 1, 3, 1, 1, 5, 5, 1, 5, 3, 2, 1, 4, 3, 1, 5, 4, 1,\n",
       "       4, 1, 4, 1, 3, 1, 1, 4, 1, 1, 0, 1, 3, 1, 1, 1, 1, 1, 3, 4, 1, 1,\n",
       "       3, 0, 4, 1, 5, 0, 4, 3, 3, 4, 5, 1, 1, 4, 5, 1, 1, 1, 5, 3, 1, 5,\n",
       "       3, 1, 2, 5, 1, 2, 4, 1, 1, 1, 1, 4, 3, 3, 0, 4, 2, 3, 1, 1, 2, 0,\n",
       "       1, 3, 3, 3, 1, 3, 1, 1, 3, 5, 4, 5, 1, 4, 3, 1, 1, 0, 3, 1, 2, 3,\n",
       "       4, 2, 1, 1, 4, 2, 3, 4, 1, 4, 3, 0, 1, 1, 1, 1, 1, 1, 1, 3, 1, 1,\n",
       "       1, 1, 3, 3, 1, 1, 3, 3, 1, 1, 3, 3, 5, 0, 3, 1, 1, 3, 5, 1, 4, 0,\n",
       "       4, 5, 1, 3, 4, 3, 1, 3, 2, 5, 3, 3, 3, 1, 1, 1, 4, 2, 1, 3, 1, 3,\n",
       "       3, 1, 1, 3, 1, 4, 3, 1, 3, 1, 1, 5, 2, 3, 1, 1, 1, 3, 4, 1, 1, 1,\n",
       "       1, 1, 3, 2, 3, 3, 3, 1, 5, 4, 4, 1, 3, 3, 1, 1, 4, 1, 0, 1, 1, 1,\n",
       "       3, 1, 2, 1, 1, 2, 0, 1, 2, 3, 3, 0, 3, 1, 1, 3, 1, 5, 1, 3, 1, 1,\n",
       "       4, 3, 4, 3, 3, 1, 3, 1, 1, 1, 0, 4, 3, 1, 1, 5, 2, 1, 4, 4, 1, 4,\n",
       "       1, 5, 4, 4, 1, 0, 3, 1, 5, 5, 1, 1, 3, 4, 5, 1, 1, 4, 4, 3, 1, 1,\n",
       "       1, 5, 2, 2, 3, 3, 3, 3, 2, 1, 2, 3, 3, 3, 2, 3, 1, 1, 3, 4, 3, 1,\n",
       "       1, 3, 1, 3, 1, 1, 1, 3, 1, 1, 3, 4, 5, 1, 1, 4, 5, 2, 1, 5, 3, 1,\n",
       "       1, 5, 1, 1, 3, 4, 5, 2, 1, 4, 1, 3, 1, 4, 1, 1, 1, 1, 1, 5, 3, 1,\n",
       "       4, 1, 5, 1, 1, 1, 1, 1, 5, 1, 3, 1, 1, 2, 1, 2, 1, 3, 5, 5, 3, 3,\n",
       "       0, 5, 3, 3, 3, 5, 3, 1, 3, 1, 4, 0, 3, 2, 1, 3, 2, 0, 4, 4, 3, 3,\n",
       "       5, 3, 1, 5, 1, 1, 1, 1, 1, 1, 1, 1, 3, 3, 3, 1, 1, 4, 1, 1, 2, 3,\n",
       "       1, 3])"
      ]
     },
     "execution_count": 13,
     "metadata": {},
     "output_type": "execute_result"
    }
   ],
   "source": [
    "y"
   ]
  },
  {
   "cell_type": "code",
   "execution_count": 10,
   "id": "0a39ba91",
   "metadata": {},
   "outputs": [
    {
     "name": "stdout",
     "output_type": "stream",
     "text": [
      "Model: \"sequential_1\"\n",
      "_________________________________________________________________\n",
      " Layer (type)                Output Shape              Param #   \n",
      "=================================================================\n",
      " conv2d_6 (Conv2D)           (None, 62, 62, 128)       3584      \n",
      "                                                                 \n",
      " conv2d_7 (Conv2D)           (None, 60, 60, 128)       147584    \n",
      "                                                                 \n",
      " max_pooling2d_3 (MaxPooling  (None, 30, 30, 128)      0         \n",
      " 2D)                                                             \n",
      "                                                                 \n",
      " conv2d_8 (Conv2D)           (None, 28, 28, 64)        73792     \n",
      "                                                                 \n",
      " conv2d_9 (Conv2D)           (None, 26, 26, 64)        36928     \n",
      "                                                                 \n",
      " max_pooling2d_4 (MaxPooling  (None, 13, 13, 64)       0         \n",
      " 2D)                                                             \n",
      "                                                                 \n",
      " conv2d_10 (Conv2D)          (None, 11, 11, 32)        18464     \n",
      "                                                                 \n",
      " conv2d_11 (Conv2D)          (None, 9, 9, 32)          9248      \n",
      "                                                                 \n",
      " max_pooling2d_5 (MaxPooling  (None, 4, 4, 32)         0         \n",
      " 2D)                                                             \n",
      "                                                                 \n",
      " flatten_1 (Flatten)         (None, 512)               0         \n",
      "                                                                 \n",
      " dense_2 (Dense)             (None, 22)                11286     \n",
      "                                                                 \n",
      " dense_3 (Dense)             (None, 7)                 161       \n",
      "                                                                 \n",
      "=================================================================\n",
      "Total params: 301,047\n",
      "Trainable params: 301,047\n",
      "Non-trainable params: 0\n",
      "_________________________________________________________________\n"
     ]
    }
   ],
   "source": [
    "from tensorflow.keras.models import Sequential\n",
    "from tensorflow.keras.layers import Conv2D, MaxPooling2D, Flatten, Dense\n",
    "\n",
    "model = Sequential()\n",
    "\n",
    "model.add(Conv2D(128, (3, 3), input_shape=(64,64,3), activation=\"relu\"))\n",
    "model.add(Conv2D(128, (3, 3), activation=\"relu\"))\n",
    "model.add(MaxPooling2D(pool_size=(2, 2)))\n",
    "\n",
    "model.add(Conv2D(64, (3,3), activation=\"relu\"))\n",
    "model.add(Conv2D(64, (3,3), activation=\"relu\"))\n",
    "model.add(MaxPooling2D(pool_size=(2, 2)))\n",
    "\n",
    "\n",
    "model.add(Conv2D(32, (3, 3), activation='relu'))\n",
    "model.add(Conv2D(32, (3, 3), activation='relu'))\n",
    "model.add(MaxPooling2D(pool_size=(2, 2)))\n",
    "\n",
    "\n",
    "model.add(Flatten())\n",
    "model.add(Dense(22, activation=\"relu\"))\n",
    "model.add(Dense(7, activation=\"softmax\"))\n",
    "\n",
    "\n",
    "model.compile(optimizer=\"adam\", loss=\"sparse_categorical_crossentropy\", metrics=[\"accuracy\"])\n",
    "model.summary()"
   ]
  },
  {
   "cell_type": "code",
   "execution_count": 10,
   "id": "39e1023a",
   "metadata": {},
   "outputs": [
    {
     "name": "stdout",
     "output_type": "stream",
     "text": [
      "Epoch 1/20\n",
      "2816/2816 [==============================] - 302s 107ms/step - loss: 1.1532 - accuracy: 0.5162 - val_loss: 0.5762 - val_accuracy: 0.7878\n",
      "Epoch 2/20\n",
      "2816/2816 [==============================] - 344s 122ms/step - loss: 0.5110 - accuracy: 0.8319 - val_loss: 0.5212 - val_accuracy: 0.7956\n",
      "Epoch 3/20\n",
      "2816/2816 [==============================] - 332s 118ms/step - loss: 0.3289 - accuracy: 0.8816 - val_loss: 0.1923 - val_accuracy: 0.9312\n",
      "Epoch 4/20\n",
      "2816/2816 [==============================] - 328s 117ms/step - loss: 0.3393 - accuracy: 0.9103 - val_loss: 0.2527 - val_accuracy: 0.9404\n",
      "Epoch 5/20\n",
      "2816/2816 [==============================] - 330s 117ms/step - loss: 0.2733 - accuracy: 0.9187 - val_loss: 0.2191 - val_accuracy: 0.9084\n",
      "Epoch 6/20\n",
      "2816/2816 [==============================] - 1363s 484ms/step - loss: 0.2726 - accuracy: 0.9398 - val_loss: 0.2135 - val_accuracy: 0.9312\n",
      "Epoch 7/20\n",
      "2816/2816 [==============================] - 314s 111ms/step - loss: 0.2303 - accuracy: 0.9482 - val_loss: 0.1168 - val_accuracy: 0.9574\n",
      "Epoch 8/20\n",
      "2816/2816 [==============================] - 354s 126ms/step - loss: 0.2564 - accuracy: 0.9254 - val_loss: 0.1083 - val_accuracy: 0.9617\n",
      "Epoch 9/20\n",
      "2816/2816 [==============================] - 368s 131ms/step - loss: 0.0991 - accuracy: 0.9666 - val_loss: 0.3771 - val_accuracy: 0.8964\n",
      "Epoch 10/20\n",
      "2816/2816 [==============================] - 360s 128ms/step - loss: 0.2221 - accuracy: 0.9574 - val_loss: 0.0649 - val_accuracy: 0.9773\n",
      "Epoch 11/20\n",
      "2816/2816 [==============================] - 359s 127ms/step - loss: 0.1899 - accuracy: 0.9652 - val_loss: 0.0364 - val_accuracy: 0.9915\n",
      "Epoch 12/20\n",
      "2816/2816 [==============================] - 375s 133ms/step - loss: 0.0767 - accuracy: 0.9727 - val_loss: 0.0636 - val_accuracy: 0.9794\n",
      "Epoch 13/20\n",
      "2816/2816 [==============================] - 376s 134ms/step - loss: 0.2482 - accuracy: 0.9485 - val_loss: 0.1459 - val_accuracy: 0.9645\n",
      "Epoch 14/20\n",
      "2816/2816 [==============================] - 376s 134ms/step - loss: 0.2731 - accuracy: 0.9586 - val_loss: 0.0406 - val_accuracy: 0.9872\n",
      "Epoch 15/20\n",
      "2816/2816 [==============================] - 377s 134ms/step - loss: 0.2647 - accuracy: 0.9723 - val_loss: 0.0738 - val_accuracy: 0.9780\n",
      "Epoch 16/20\n",
      "2816/2816 [==============================] - 415s 147ms/step - loss: 0.1224 - accuracy: 0.9716 - val_loss: 0.0442 - val_accuracy: 0.9879\n",
      "Epoch 17/20\n",
      "2816/2816 [==============================] - 385s 137ms/step - loss: 0.0658 - accuracy: 0.9812 - val_loss: 0.6267 - val_accuracy: 0.9439\n",
      "Epoch 18/20\n",
      "2816/2816 [==============================] - 388s 138ms/step - loss: 0.1142 - accuracy: 0.9728 - val_loss: 0.1328 - val_accuracy: 0.9688\n",
      "Epoch 19/20\n",
      "2816/2816 [==============================] - 359s 127ms/step - loss: 0.1256 - accuracy: 0.9735 - val_loss: 0.3032 - val_accuracy: 0.9603\n",
      "Epoch 20/20\n",
      "2816/2816 [==============================] - 380s 135ms/step - loss: 0.0967 - accuracy: 0.9744 - val_loss: 0.0753 - val_accuracy: 0.9808\n"
     ]
    }
   ],
   "source": [
    "history = model.fit(x,y,batch_size=2, epochs=20, validation_split=0.2)"
   ]
  },
  {
   "cell_type": "code",
   "execution_count": 13,
   "id": "00e9a293",
   "metadata": {},
   "outputs": [
    {
     "data": {
      "image/png": "[encoded data removed]",
      "text/plain": [
       "<Figure size 432x288 with 1 Axes>"
      ]
     },
     "metadata": {
      "needs_background": "light"
     },
     "output_type": "display_data"
    }
   ],
   "source": [
    "from matplotlib import pyplot as plt\n",
    "# Plot history: MAE\n",
    "plt.plot(history.history['loss'], label='Training Loss')\n",
    "plt.plot(history.history['val_loss'], label='Validation Loss')\n",
    "plt.title('Training and Validation Loss')\n",
    "plt.ylabel('value')\n",
    "plt.xlabel('No. epoch')\n",
    "plt.legend(loc=\"upper left\")\n",
    "plt.show()"
   ]
  },
  {
   "cell_type": "code",
   "execution_count": 14,
   "id": "3db2abcd",
   "metadata": {},
   "outputs": [
    {
     "data": {
      "image/png": "[encoded data removed]",
      "text/plain": [
       "<Figure size 432x288 with 1 Axes>"
      ]
     },
     "metadata": {
      "needs_background": "light"
     },
     "output_type": "display_data"
    }
   ],
   "source": [
    "# Plot history: MSE\n",
    "plt.plot(history.history['accuracy'], label='Training Accuracy')\n",
    "plt.plot(history.history['val_accuracy'], label='Validation Accuracy')\n",
    "plt.title('Training and Validation Accuracy')\n",
    "plt.ylabel('value')\n",
    "plt.xlabel('No. epoch')\n",
    "plt.legend(loc=\"upper left\")\n",
    "plt.show()"
   ]
  },
  {
   "cell_type": "code",
   "execution_count": 16,
   "id": "dec20d5c",
   "metadata": {},
   "outputs": [],
   "source": [
    "model.save('percobaan5.h5')"
   ]
  },
  {
   "cell_type": "code",
   "execution_count": 11,
   "id": "845f0e00",
   "metadata": {},
   "outputs": [],
   "source": [
    "model.load_weights('percobaan5.h5')"
   ]
  },
  {
   "cell_type": "code",
   "execution_count": 12,
   "id": "af23a1b0",
   "metadata": {},
   "outputs": [],
   "source": [
    "import cv2\n",
    "import glob\n",
    "import random \n",
    "import numpy as np\n",
    "\n",
    "x=[]\n",
    "y=[]\n",
    "\n",
    "for gambar in glob.glob(\"dataset/test/batukali/*\"):\n",
    "    ini=cv2.imread(gambar)\n",
    "    ini=cv2.resize(ini,(64,64))/255\n",
    "    x.append(ini)\n",
    "    y.append(0)\n",
    "for gambar in glob.glob(\"dataset/test/badarbesi/*\"):\n",
    "    ini=cv2.imread(gambar)\n",
    "    ini=cv2.resize(ini,(64,64))/255\n",
    "    x.append(ini)\n",
    "    y.append(1)\n",
    "for gambar in glob.glob(\"dataset/test/badarlumut/*\"):\n",
    "    ini=cv2.imread(gambar)\n",
    "    ini=cv2.resize(ini,(64,64))/255\n",
    "    x.append(ini)\n",
    "    y.append(2)\n",
    "for gambar in glob.glob(\"dataset/test/giokhijau/*\"):\n",
    "    ini=cv2.imread(gambar)\n",
    "    ini=cv2.resize(ini,(64,64))/255\n",
    "    x.append(ini)\n",
    "    y.append(3)\n",
    "for gambar in glob.glob(\"dataset/test/giokbiru/*\"):\n",
    "    ini=cv2.imread(gambar)\n",
    "    ini=cv2.resize(ini,(64,64))/255\n",
    "    x.append(ini)\n",
    "    y.append(4)\n",
    "for gambar in glob.glob(\"dataset/test/giokmerah/*\"):\n",
    "    ini=cv2.imread(gambar)\n",
    "    ini=cv2.resize(ini,(64,64))/255\n",
    "    x.append(ini)\n",
    "    y.append(5)\n",
    "for gambar in glob.glob(\"dataset/test/kecubungungu/*\"):\n",
    "    ini=cv2.imread(gambar)\n",
    "    ini=cv2.resize(ini,(64,64))/255\n",
    "    x.append(ini)\n",
    "    y.append(6)\n"
   ]
  },
  {
   "cell_type": "code",
   "execution_count": 13,
   "id": "ffa91032",
   "metadata": {},
   "outputs": [
    {
     "name": "stdout",
     "output_type": "stream",
     "text": [
      "2/2 [==============================] - 2s 562ms/step\n"
     ]
    }
   ],
   "source": [
    "import numpy as np\n",
    "from sklearn.metrics import accuracy_score,confusion_matrix\n",
    "\n",
    "ypred = model.predict(np.asarray(x))\n",
    "ypred = np.argmax(ypred, axis=1)"
   ]
  },
  {
   "cell_type": "code",
   "execution_count": 14,
   "id": "48d2e771",
   "metadata": {},
   "outputs": [
    {
     "data": {
      "text/plain": [
       "0.9387755102040817"
      ]
     },
     "execution_count": 14,
     "metadata": {},
     "output_type": "execute_result"
    }
   ],
   "source": [
    "accuracy_score(ypred,y)"
   ]
  },
  {
   "cell_type": "code",
   "execution_count": 16,
   "id": "d3797809",
   "metadata": {},
   "outputs": [
    {
     "data": {
      "text/plain": [
       "<matplotlib.image.AxesImage at 0x258badf2800>"
      ]
     },
     "execution_count": 16,
     "metadata": {},
     "output_type": "execute_result"
    },
    {
     "data": {
      "image/png": "[encoded data removed]",
      "text/plain": [
       "<Figure size 432x288 with 1 Axes>"
      ]
     },
     "metadata": {
      "needs_background": "light"
     },
     "output_type": "display_data"
    }
   ],
   "source": [
    "cm= confusion_matrix(ypred,y)\n",
    "plt.imshow(cm)"
   ]
  },
  {
   "cell_type": "code",
   "execution_count": 17,
   "id": "36fd0008",
   "metadata": {},
   "outputs": [
    {
     "data": {
      "text/plain": [
       "array([[5, 0, 0, 0, 0, 0, 0],\n",
       "       [2, 6, 0, 0, 0, 0, 0],\n",
       "       [0, 0, 7, 0, 0, 0, 0],\n",
       "       [0, 0, 0, 7, 0, 0, 0],\n",
       "       [0, 1, 0, 0, 7, 0, 0],\n",
       "       [0, 0, 0, 0, 0, 7, 0],\n",
       "       [0, 0, 0, 0, 0, 0, 7]], dtype=int64)"
      ]
     },
     "execution_count": 17,
     "metadata": {},
     "output_type": "execute_result"
    }
   ],
   "source": [
    "cm"
   ]
  }
 ],
 "metadata": {
  "kernelspec": {
   "display_name": "Python 3 (ipykernel)",
   "language": "python",
   "name": "python3"
  },
  "language_info": {
   "codemirror_mode": {
    "name": "ipython",
    "version": 3
   },
   "file_extension": ".py",
   "mimetype": "text/x-python",
   "name": "python",
   "nbconvert_exporter": "python",
   "pygments_lexer": "ipython3",
   "version": "3.10.1"
  }
 },
 "nbformat": 4,
 "nbformat_minor": 5
}
