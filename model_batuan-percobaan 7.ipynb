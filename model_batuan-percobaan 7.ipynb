{
 "cells": [
  {
   "cell_type": "code",
   "execution_count": 5,
   "id": "215a97c1",
   "metadata": {},
   "outputs": [],
   "source": [
    "from tensorflow.keras.preprocessing.image import ImageDataGenerator\n",
    "from tensorflow.keras.models import Sequential\n",
    "from tensorflow.keras.layers import Conv2D, Activation, MaxPooling2D, Dropout, Flatten, Dense\n",
    "from keras import backend as K\n",
    "import tensorflow as tf\n",
    "import matplotlib.pyplot as plt\n",
    "import os\n",
    "import cv2\n",
    "import numpy as np\n",
    "import csv\n",
    "import pandas as pd\n",
    "from keras.preprocessing import image\n",
    "from tensorflow import keras\n",
    "from tensorflow import lite\n",
    "#load library untuk train test split\n",
    "from sklearn.model_selection import train_test_split\n",
    "import shutil\n",
    "from tqdm.notebook import tqdm as tq\n"
   ]
  },
  {
   "cell_type": "code",
   "execution_count": 7,
   "id": "83ce1627",
   "metadata": {},
   "outputs": [
    {
     "name": "stdout",
     "output_type": "stream",
     "text": [
      "Initialised with 38 image(s) found.\n",
      "Output directory set to batuan/giokhijau\\.."
     ]
    },
    {
     "name": "stderr",
     "output_type": "stream",
     "text": [
      "Processing <PIL.Image.Image image mode=RGBA size=64x64 at 0x15349CA5BD0>: 100%|█| 1000/1000 [00:07<00:00, 133.78 Sample\n"
     ]
    },
    {
     "name": "stdout",
     "output_type": "stream",
     "text": [
      "Initialised with 22 image(s) found.\n",
      "Output directory set to batuan/kecubungungu\\.."
     ]
    },
    {
     "name": "stderr",
     "output_type": "stream",
     "text": [
      "Processing <PIL.Image.Image image mode=RGBA size=64x64 at 0x153494459F0>: 100%|█| 1000/1000 [00:05<00:00, 172.96 Sample\n"
     ]
    }
   ],
   "source": [
    "'''\n",
    "import Augmentor\n",
    "import os\n",
    "\n",
    "def perbanyak_(ini, sebanyak_ini):\n",
    "    source_dir = ini\n",
    "    output_dir = \".\"\n",
    "    p = Augmentor.Pipeline(source_directory=source_dir, output_directory=output_dir)\n",
    "    #p.random_distortion(probability=1, grid_width=4, grid_height=4, magnitude=1)\n",
    "    p.rotate(probability=0.7, max_left_rotation=13, max_right_rotation=13)\n",
    "    p.zoom_random(probability=0.5, percentage_area=0.9)\n",
    "    p.crop_random(probability=0.6, percentage_area=0.9)\n",
    "    p.resize(probability=1.0, width=64, height=64)\n",
    "\n",
    "    p.sample(sebanyak_ini)\n",
    "\n",
    "perbanyak_(\"batuan/giokhijau\", 1000)\n",
    "perbanyak_(\"batuan/kecubungungu\", 1000)\n",
    "'''\n"
   ]
  },
  {
   "cell_type": "code",
   "execution_count": 4,
   "id": "9c4bbc6b",
   "metadata": {},
   "outputs": [],
   "source": [
    "import cv2\n",
    "import glob\n",
    "import random \n",
    "import numpy as np\n",
    "\n",
    "x=[]\n",
    "y=[]\n",
    "\n",
    "for gambar in glob.glob(\"batuan/batukali/*\"):\n",
    "    ini=cv2.imread(gambar)\n",
    "    ini=cv2.resize(ini,(64,64))/255\n",
    "    x.append(ini)\n",
    "    y.append(0)\n",
    "for gambar in glob.glob(\"batuan/badarbesi/*\"):\n",
    "    ini=cv2.imread(gambar)\n",
    "    ini=cv2.resize(ini,(64,64))/255\n",
    "    x.append(ini)\n",
    "    y.append(1)\n",
    "for gambar in glob.glob(\"batuan/badarlumut/*\"):\n",
    "    ini=cv2.imread(gambar)\n",
    "    ini=cv2.resize(ini,(64,64))/255\n",
    "    x.append(ini)\n",
    "    y.append(2)\n",
    "for gambar in glob.glob(\"batuan/giokhijau/*\"):\n",
    "    ini=cv2.imread(gambar)\n",
    "    ini=cv2.resize(ini,(64,64))/255\n",
    "    x.append(ini)\n",
    "    y.append(3)\n",
    "for gambar in glob.glob(\"batuan/giokbiru/*\"):\n",
    "    ini=cv2.imread(gambar)\n",
    "    ini=cv2.resize(ini,(64,64))/255\n",
    "    x.append(ini)\n",
    "    y.append(4)\n",
    "for gambar in glob.glob(\"batuan/giokmerah/*\"):\n",
    "    ini=cv2.imread(gambar)\n",
    "    ini=cv2.resize(ini,(64,64))/255\n",
    "    x.append(ini)\n",
    "    y.append(5)\n",
    "for gambar in glob.glob(\"batuan/kecubungungu/*\"):\n",
    "    ini=cv2.imread(gambar)\n",
    "    ini=cv2.resize(ini,(64,64))/255\n",
    "    x.append(ini)\n",
    "    y.append(6)\n",
    "\n",
    "z = list(zip(x, y))\n",
    "random.shuffle(z)\n",
    "x, y = zip(*z)\n",
    "x = np.asarray(x)\n",
    "y = np.asarray(y)"
   ]
  },
  {
   "cell_type": "code",
   "execution_count": 15,
   "id": "6f52bf9a",
   "metadata": {},
   "outputs": [
    {
     "data": {
      "text/plain": [
       "(7154, 64, 64, 3)"
      ]
     },
     "execution_count": 15,
     "metadata": {},
     "output_type": "execute_result"
    }
   ],
   "source": [
    "x.shape"
   ]
  },
  {
   "cell_type": "code",
   "execution_count": 13,
   "id": "3a180c25",
   "metadata": {},
   "outputs": [
    {
     "data": {
      "text/plain": [
       "array([3, 3, 3, 3, 1, 1, 1, 5, 3, 1, 3, 1, 3, 2, 3, 1, 3, 1, 3, 1, 5, 1,\n",
       "       4, 2, 1, 1, 5, 1, 2, 5, 3, 1, 3, 5, 4, 1, 1, 1, 1, 5, 0, 1, 3, 3,\n",
       "       5, 5, 2, 4, 1, 1, 1, 5, 1, 1, 4, 1, 3, 1, 1, 3, 1, 1, 1, 1, 1, 4,\n",
       "       1, 0, 0, 1, 0, 3, 1, 1, 1, 1, 1, 1, 4, 1, 4, 5, 5, 3, 1, 1, 3, 3,\n",
       "       1, 1, 1, 1, 1, 3, 4, 2, 4, 1, 5, 4, 1, 1, 1, 1, 3, 1, 1, 2, 1, 1,\n",
       "       1, 1, 3, 4, 1, 4, 3, 3, 1, 2, 3, 1, 1, 1, 0, 3, 4, 1, 3, 3, 1, 2,\n",
       "       3, 1, 3, 1, 1, 1, 3, 0, 5, 1, 0, 4, 3, 1, 1, 0, 3, 3, 1, 2, 5, 5,\n",
       "       3, 4, 3, 0, 4, 2, 0, 1, 3, 1, 1, 2, 3, 3, 1, 1, 1, 3, 3, 1, 3, 5,\n",
       "       1, 2, 3, 1, 4, 1, 1, 2, 4, 1, 5, 3, 5, 1, 1, 1, 4, 4, 4, 3, 2, 4,\n",
       "       3, 1, 1, 3, 3, 3, 0, 5, 3, 0, 1, 3, 5, 1, 3, 1, 4, 3, 4, 0, 3, 5,\n",
       "       1, 1, 2, 5, 1, 0, 1, 4, 1, 3, 2, 4, 2, 5, 3, 5, 3, 5, 3, 5, 1, 1,\n",
       "       1, 1, 0, 1, 1, 1, 5, 3, 1, 1, 5, 3, 1, 5, 1, 3, 1, 1, 1, 1, 1, 1,\n",
       "       1, 2, 5, 5, 1, 3, 1, 5, 5, 3, 3, 1, 5, 2, 1, 1, 4, 1, 5, 1, 1, 5,\n",
       "       2, 1, 4, 1, 1, 5, 3, 1, 3, 4, 1, 5, 3, 3, 1, 4, 5, 1, 3, 3, 3, 1,\n",
       "       4, 1, 3, 3, 1, 1, 3, 2, 1, 1, 0, 5, 5, 3, 1, 3, 1, 0, 1, 1, 1, 2,\n",
       "       1, 4, 4, 1, 5, 1, 1, 3, 5, 4, 5, 2, 1, 2, 1, 0, 1, 1, 4, 1, 3, 4,\n",
       "       1, 3, 4, 3, 0, 1, 1, 2, 3, 4, 1, 4, 1, 3, 1, 4, 4, 1, 1, 3, 1, 2,\n",
       "       1, 1, 4, 1, 1, 1, 1, 1, 3, 1, 3, 1, 1, 3, 1, 1, 1, 3, 4, 3, 3, 4,\n",
       "       0, 1, 3, 3, 1, 1, 1, 3, 1, 3, 4, 4, 3, 3, 1, 1, 3, 1, 1, 3, 3, 5,\n",
       "       4, 4, 1, 5, 2, 3, 2, 1, 2, 3, 3, 1, 4, 2, 3, 1, 5, 1, 3, 4, 1, 1,\n",
       "       3, 2, 4, 1, 1, 1, 1, 3, 1, 1, 1, 4, 1, 1, 3, 1, 1, 2, 0, 0, 4, 1,\n",
       "       2, 1, 2, 4, 4, 1, 1, 3, 4, 3, 3, 1, 2, 4, 0, 5, 1, 3, 1, 4, 1, 4,\n",
       "       3, 2, 5, 5, 1, 1, 1, 1, 1, 1, 5, 2, 3, 3, 1, 3, 4, 3, 4, 3, 3, 3,\n",
       "       0, 3, 1, 1, 3, 0, 2, 1, 1, 3, 1, 2, 5, 1, 3, 1, 1, 1, 3, 1, 1, 1,\n",
       "       3, 4, 1, 2, 4, 1, 3, 1, 1, 5, 5, 1, 5, 3, 2, 1, 4, 3, 1, 5, 4, 1,\n",
       "       4, 1, 4, 1, 3, 1, 1, 4, 1, 1, 0, 1, 3, 1, 1, 1, 1, 1, 3, 4, 1, 1,\n",
       "       3, 0, 4, 1, 5, 0, 4, 3, 3, 4, 5, 1, 1, 4, 5, 1, 1, 1, 5, 3, 1, 5,\n",
       "       3, 1, 2, 5, 1, 2, 4, 1, 1, 1, 1, 4, 3, 3, 0, 4, 2, 3, 1, 1, 2, 0,\n",
       "       1, 3, 3, 3, 1, 3, 1, 1, 3, 5, 4, 5, 1, 4, 3, 1, 1, 0, 3, 1, 2, 3,\n",
       "       4, 2, 1, 1, 4, 2, 3, 4, 1, 4, 3, 0, 1, 1, 1, 1, 1, 1, 1, 3, 1, 1,\n",
       "       1, 1, 3, 3, 1, 1, 3, 3, 1, 1, 3, 3, 5, 0, 3, 1, 1, 3, 5, 1, 4, 0,\n",
       "       4, 5, 1, 3, 4, 3, 1, 3, 2, 5, 3, 3, 3, 1, 1, 1, 4, 2, 1, 3, 1, 3,\n",
       "       3, 1, 1, 3, 1, 4, 3, 1, 3, 1, 1, 5, 2, 3, 1, 1, 1, 3, 4, 1, 1, 1,\n",
       "       1, 1, 3, 2, 3, 3, 3, 1, 5, 4, 4, 1, 3, 3, 1, 1, 4, 1, 0, 1, 1, 1,\n",
       "       3, 1, 2, 1, 1, 2, 0, 1, 2, 3, 3, 0, 3, 1, 1, 3, 1, 5, 1, 3, 1, 1,\n",
       "       4, 3, 4, 3, 3, 1, 3, 1, 1, 1, 0, 4, 3, 1, 1, 5, 2, 1, 4, 4, 1, 4,\n",
       "       1, 5, 4, 4, 1, 0, 3, 1, 5, 5, 1, 1, 3, 4, 5, 1, 1, 4, 4, 3, 1, 1,\n",
       "       1, 5, 2, 2, 3, 3, 3, 3, 2, 1, 2, 3, 3, 3, 2, 3, 1, 1, 3, 4, 3, 1,\n",
       "       1, 3, 1, 3, 1, 1, 1, 3, 1, 1, 3, 4, 5, 1, 1, 4, 5, 2, 1, 5, 3, 1,\n",
       "       1, 5, 1, 1, 3, 4, 5, 2, 1, 4, 1, 3, 1, 4, 1, 1, 1, 1, 1, 5, 3, 1,\n",
       "       4, 1, 5, 1, 1, 1, 1, 1, 5, 1, 3, 1, 1, 2, 1, 2, 1, 3, 5, 5, 3, 3,\n",
       "       0, 5, 3, 3, 3, 5, 3, 1, 3, 1, 4, 0, 3, 2, 1, 3, 2, 0, 4, 4, 3, 3,\n",
       "       5, 3, 1, 5, 1, 1, 1, 1, 1, 1, 1, 1, 3, 3, 3, 1, 1, 4, 1, 1, 2, 3,\n",
       "       1, 3])"
      ]
     },
     "execution_count": 13,
     "metadata": {},
     "output_type": "execute_result"
    }
   ],
   "source": [
    "y"
   ]
  },
  {
   "cell_type": "code",
   "execution_count": 6,
   "id": "0a39ba91",
   "metadata": {},
   "outputs": [
    {
     "name": "stdout",
     "output_type": "stream",
     "text": [
      "Model: \"sequential\"\n",
      "_________________________________________________________________\n",
      " Layer (type)                Output Shape              Param #   \n",
      "=================================================================\n",
      " conv2d (Conv2D)             (None, 62, 62, 16)        448       \n",
      "                                                                 \n",
      " conv2d_1 (Conv2D)           (None, 60, 60, 16)        2320      \n",
      "                                                                 \n",
      " max_pooling2d (MaxPooling2D  (None, 30, 30, 16)       0         \n",
      " )                                                               \n",
      "                                                                 \n",
      " conv2d_2 (Conv2D)           (None, 28, 28, 16)        2320      \n",
      "                                                                 \n",
      " conv2d_3 (Conv2D)           (None, 26, 26, 16)        2320      \n",
      "                                                                 \n",
      " max_pooling2d_1 (MaxPooling  (None, 13, 13, 16)       0         \n",
      " 2D)                                                             \n",
      "                                                                 \n",
      " conv2d_4 (Conv2D)           (None, 11, 11, 16)        2320      \n",
      "                                                                 \n",
      " conv2d_5 (Conv2D)           (None, 9, 9, 16)          2320      \n",
      "                                                                 \n",
      " max_pooling2d_2 (MaxPooling  (None, 4, 4, 16)         0         \n",
      " 2D)                                                             \n",
      "                                                                 \n",
      " flatten (Flatten)           (None, 256)               0         \n",
      "                                                                 \n",
      " dense (Dense)               (None, 16)                4112      \n",
      "                                                                 \n",
      " dense_1 (Dense)             (None, 7)                 119       \n",
      "                                                                 \n",
      "=================================================================\n",
      "Total params: 16,279\n",
      "Trainable params: 16,279\n",
      "Non-trainable params: 0\n",
      "_________________________________________________________________\n"
     ]
    }
   ],
   "source": [
    "from tensorflow.keras.models import Sequential\n",
    "from tensorflow.keras.layers import Conv2D, MaxPooling2D, Flatten, Dense\n",
    "\n",
    "model = Sequential()\n",
    "\n",
    "model.add(Conv2D(16, (3, 3), input_shape=(64,64,3), activation=\"relu\"))\n",
    "model.add(Conv2D(16, (3, 3), activation=\"relu\"))\n",
    "model.add(MaxPooling2D(pool_size=(2, 2)))\n",
    "\n",
    "model.add(Conv2D(16, (3,3), activation=\"relu\"))\n",
    "model.add(Conv2D(16, (3,3), activation=\"relu\"))\n",
    "model.add(MaxPooling2D(pool_size=(2, 2)))\n",
    "\n",
    "\n",
    "model.add(Conv2D(16, (3, 3), activation='relu'))\n",
    "model.add(Conv2D(16, (3, 3), activation='relu'))\n",
    "model.add(MaxPooling2D(pool_size=(2, 2)))\n",
    "\n",
    "\n",
    "model.add(Flatten())\n",
    "model.add(Dense(16, activation=\"relu\"))\n",
    "model.add(Dense(7, activation=\"softmax\"))\n",
    "\n",
    "\n",
    "model.compile(optimizer=\"adam\", loss=\"sparse_categorical_crossentropy\", metrics=[\"accuracy\"])\n",
    "model.summary()"
   ]
  },
  {
   "cell_type": "code",
   "execution_count": 5,
   "id": "39e1023a",
   "metadata": {},
   "outputs": [
    {
     "name": "stdout",
     "output_type": "stream",
     "text": [
      "Epoch 1/20\n",
      "2816/2816 [==============================] - 35s 12ms/step - loss: 0.7572 - accuracy: 0.6784 - val_loss: 0.3522 - val_accuracy: 0.8332\n",
      "Epoch 2/20\n",
      "2816/2816 [==============================] - 35s 12ms/step - loss: 0.3730 - accuracy: 0.8562 - val_loss: 0.4132 - val_accuracy: 0.8588\n",
      "Epoch 3/20\n",
      "2816/2816 [==============================] - 39s 14ms/step - loss: 0.2582 - accuracy: 0.9165 - val_loss: 0.2116 - val_accuracy: 0.9312\n",
      "Epoch 4/20\n",
      "2816/2816 [==============================] - 42s 15ms/step - loss: 0.1719 - accuracy: 0.9384 - val_loss: 0.1467 - val_accuracy: 0.9404\n",
      "Epoch 5/20\n",
      "2816/2816 [==============================] - 42s 15ms/step - loss: 0.1524 - accuracy: 0.9508 - val_loss: 0.1040 - val_accuracy: 0.9617\n",
      "Epoch 6/20\n",
      "2816/2816 [==============================] - 41s 15ms/step - loss: 0.1281 - accuracy: 0.9577 - val_loss: 0.0418 - val_accuracy: 0.9823\n",
      "Epoch 7/20\n",
      "2816/2816 [==============================] - 45s 16ms/step - loss: 0.1120 - accuracy: 0.9682 - val_loss: 0.0361 - val_accuracy: 0.9851\n",
      "Epoch 8/20\n",
      "2816/2816 [==============================] - 43s 15ms/step - loss: 0.1562 - accuracy: 0.9679 - val_loss: 0.0978 - val_accuracy: 0.9702\n",
      "Epoch 9/20\n",
      "2816/2816 [==============================] - 42s 15ms/step - loss: 0.0806 - accuracy: 0.9760 - val_loss: 0.0358 - val_accuracy: 0.9886\n",
      "Epoch 10/20\n",
      "2816/2816 [==============================] - 45s 16ms/step - loss: 0.1099 - accuracy: 0.9705 - val_loss: 0.1610 - val_accuracy: 0.9454\n",
      "Epoch 11/20\n",
      "2816/2816 [==============================] - 45s 16ms/step - loss: 0.0926 - accuracy: 0.9739 - val_loss: 0.0776 - val_accuracy: 0.9766\n",
      "Epoch 12/20\n",
      "2816/2816 [==============================] - 45s 16ms/step - loss: 0.0627 - accuracy: 0.9833 - val_loss: 0.0237 - val_accuracy: 0.9943\n",
      "Epoch 13/20\n",
      "2816/2816 [==============================] - 45s 16ms/step - loss: 0.1005 - accuracy: 0.9748 - val_loss: 0.0525 - val_accuracy: 0.9858\n",
      "Epoch 14/20\n",
      "2816/2816 [==============================] - 47s 17ms/step - loss: 0.0545 - accuracy: 0.9849 - val_loss: 0.0356 - val_accuracy: 0.9886\n",
      "Epoch 15/20\n",
      "2816/2816 [==============================] - 44s 16ms/step - loss: 0.0363 - accuracy: 0.9906 - val_loss: 0.0781 - val_accuracy: 0.9709\n",
      "Epoch 16/20\n",
      "2816/2816 [==============================] - 43s 15ms/step - loss: 0.0734 - accuracy: 0.9863 - val_loss: 1.4647 - val_accuracy: 0.7828\n",
      "Epoch 17/20\n",
      "2816/2816 [==============================] - 45s 16ms/step - loss: 0.0469 - accuracy: 0.9883 - val_loss: 0.0153 - val_accuracy: 0.9950\n",
      "Epoch 18/20\n",
      "2816/2816 [==============================] - 42s 15ms/step - loss: 0.0972 - accuracy: 0.9856 - val_loss: 0.0304 - val_accuracy: 0.9879\n",
      "Epoch 19/20\n",
      "2816/2816 [==============================] - 43s 15ms/step - loss: 0.0840 - accuracy: 0.9771 - val_loss: 0.0949 - val_accuracy: 0.9595\n",
      "Epoch 20/20\n",
      "2816/2816 [==============================] - 46s 16ms/step - loss: 0.1100 - accuracy: 0.9703 - val_loss: 0.0778 - val_accuracy: 0.9759\n"
     ]
    }
   ],
   "source": [
    "history = model.fit(x,y,batch_size=2, epochs=20, validation_split=0.2)"
   ]
  },
  {
   "cell_type": "code",
   "execution_count": 9,
   "id": "00e9a293",
   "metadata": {},
   "outputs": [
    {
     "data": {
      "image/png": "[encoded data removed]",
      "text/plain": [
       "<Figure size 432x288 with 1 Axes>"
      ]
     },
     "metadata": {
      "needs_background": "light"
     },
     "output_type": "display_data"
    }
   ],
   "source": [
    "from matplotlib import pyplot as plt\n",
    "# Plot history: MAE\n",
    "plt.plot(history.history['loss'], label='Training Loss')\n",
    "plt.plot(history.history['val_loss'], label='Validation Loss')\n",
    "plt.title('Training and Validation Loss')\n",
    "plt.ylabel('value')\n",
    "plt.xlabel('No. epoch')\n",
    "plt.legend(loc=\"upper left\")\n",
    "plt.show()"
   ]
  },
  {
   "cell_type": "code",
   "execution_count": 10,
   "id": "3db2abcd",
   "metadata": {},
   "outputs": [
    {
     "data": {
      "image/png": "[encoded data removed]",
      "text/plain": [
       "<Figure size 432x288 with 1 Axes>"
      ]
     },
     "metadata": {
      "needs_background": "light"
     },
     "output_type": "display_data"
    }
   ],
   "source": [
    "# Plot history: MSE\n",
    "plt.plot(history.history['accuracy'], label='Training Accuracy')\n",
    "plt.plot(history.history['val_accuracy'], label='Validation Accuracy')\n",
    "plt.title('Training and Validation Accuracy')\n",
    "plt.ylabel('value')\n",
    "plt.xlabel('No. epoch')\n",
    "plt.legend(loc=\"upper left\")\n",
    "plt.show()"
   ]
  },
  {
   "cell_type": "code",
   "execution_count": 8,
   "id": "dec20d5c",
   "metadata": {},
   "outputs": [],
   "source": [
    "model.save('percobaan7.h5')"
   ]
  },
  {
   "cell_type": "code",
   "execution_count": 15,
   "id": "845f0e00",
   "metadata": {},
   "outputs": [],
   "source": [
    "model.load_weights('percobaan7.h5')"
   ]
  },
  {
   "cell_type": "code",
   "execution_count": 16,
   "id": "20499cc0",
   "metadata": {},
   "outputs": [],
   "source": [
    "import cv2\n",
    "import glob\n",
    "import random \n",
    "import numpy as np\n",
    "\n",
    "x=[]\n",
    "y=[]\n",
    "\n",
    "for gambar in glob.glob(\"dataset/test/batukali/*\"):\n",
    "    ini=cv2.imread(gambar)\n",
    "    ini=cv2.resize(ini,(64,64))/255\n",
    "    x.append(ini)\n",
    "    y.append(0)\n",
    "for gambar in glob.glob(\"dataset/test/badarbesi/*\"):\n",
    "    ini=cv2.imread(gambar)\n",
    "    ini=cv2.resize(ini,(64,64))/255\n",
    "    x.append(ini)\n",
    "    y.append(1)\n",
    "for gambar in glob.glob(\"dataset/test/badarlumut/*\"):\n",
    "    ini=cv2.imread(gambar)\n",
    "    ini=cv2.resize(ini,(64,64))/255\n",
    "    x.append(ini)\n",
    "    y.append(2)\n",
    "for gambar in glob.glob(\"dataset/test/giokhijau/*\"):\n",
    "    ini=cv2.imread(gambar)\n",
    "    ini=cv2.resize(ini,(64,64))/255\n",
    "    x.append(ini)\n",
    "    y.append(3)\n",
    "for gambar in glob.glob(\"dataset/test/giokbiru/*\"):\n",
    "    ini=cv2.imread(gambar)\n",
    "    ini=cv2.resize(ini,(64,64))/255\n",
    "    x.append(ini)\n",
    "    y.append(4)\n",
    "for gambar in glob.glob(\"dataset/test/giokmerah/*\"):\n",
    "    ini=cv2.imread(gambar)\n",
    "    ini=cv2.resize(ini,(64,64))/255\n",
    "    x.append(ini)\n",
    "    y.append(5)\n",
    "for gambar in glob.glob(\"dataset/test/kecubungungu/*\"):\n",
    "    ini=cv2.imread(gambar)\n",
    "    ini=cv2.resize(ini,(64,64))/255\n",
    "    x.append(ini)\n",
    "    y.append(6)\n"
   ]
  },
  {
   "cell_type": "code",
   "execution_count": 17,
   "id": "3a57e686",
   "metadata": {},
   "outputs": [
    {
     "name": "stdout",
     "output_type": "stream",
     "text": [
      "2/2 [==============================] - 0s 74ms/step\n"
     ]
    }
   ],
   "source": [
    "import numpy as np\n",
    "from sklearn.metrics import accuracy_score,confusion_matrix\n",
    "\n",
    "ypred = model.predict(np.asarray(x))\n",
    "ypred = np.argmax(ypred, axis=1)"
   ]
  },
  {
   "cell_type": "code",
   "execution_count": 18,
   "id": "2dd1d9e4",
   "metadata": {},
   "outputs": [
    {
     "data": {
      "text/plain": [
       "0.1836734693877551"
      ]
     },
     "execution_count": 18,
     "metadata": {},
     "output_type": "execute_result"
    }
   ],
   "source": [
    "accuracy_score(ypred,y)"
   ]
  },
  {
   "cell_type": "code",
   "execution_count": 19,
   "id": "1c95d728",
   "metadata": {},
   "outputs": [
    {
     "data": {
      "text/plain": [
       "<matplotlib.image.AxesImage at 0x1d48f5b9900>"
      ]
     },
     "execution_count": 19,
     "metadata": {},
     "output_type": "execute_result"
    },
    {
     "data": {
      "image/png": "[encoded data removed]",
      "text/plain": [
       "<Figure size 432x288 with 1 Axes>"
      ]
     },
     "metadata": {
      "needs_background": "light"
     },
     "output_type": "display_data"
    }
   ],
   "source": [
    "cm= confusion_matrix(ypred,y)\n",
    "plt.imshow(cm)"
   ]
  },
  {
   "cell_type": "code",
   "execution_count": 20,
   "id": "2557831a",
   "metadata": {},
   "outputs": [
    {
     "data": {
      "text/plain": [
       "array([[0, 0, 0, 0, 0, 0, 0],\n",
       "       [0, 0, 0, 0, 0, 0, 0],\n",
       "       [0, 0, 0, 1, 2, 0, 1],\n",
       "       [7, 6, 6, 6, 5, 7, 3],\n",
       "       [0, 0, 0, 0, 0, 0, 0],\n",
       "       [0, 1, 1, 0, 0, 0, 0],\n",
       "       [0, 0, 0, 0, 0, 0, 3]], dtype=int64)"
      ]
     },
     "execution_count": 20,
     "metadata": {},
     "output_type": "execute_result"
    }
   ],
   "source": [
    "cm"
   ]
  }
 ],
 "metadata": {
  "kernelspec": {
   "display_name": "Python 3 (ipykernel)",
   "language": "python",
   "name": "python3"
  },
  "language_info": {
   "codemirror_mode": {
    "name": "ipython",
    "version": 3
   },
   "file_extension": ".py",
   "mimetype": "text/x-python",
   "name": "python",
   "nbconvert_exporter": "python",
   "pygments_lexer": "ipython3",
   "version": "3.10.1"
  }
 },
 "nbformat": 4,
 "nbformat_minor": 5
}
