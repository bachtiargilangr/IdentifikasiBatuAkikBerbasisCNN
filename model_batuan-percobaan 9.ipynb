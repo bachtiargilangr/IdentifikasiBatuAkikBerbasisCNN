{
 "cells": [
  {
   "cell_type": "code",
   "execution_count": 1,
   "id": "215a97c1",
   "metadata": {},
   "outputs": [],
   "source": [
    "from tensorflow.keras.preprocessing.image import ImageDataGenerator\n",
    "from tensorflow.keras.models import Sequential\n",
    "from tensorflow.keras.layers import Conv2D, Activation, MaxPooling2D, Dropout, Flatten, Dense\n",
    "from keras import backend as K\n",
    "import tensorflow as tf\n",
    "import matplotlib.pyplot as plt\n",
    "import os\n",
    "import cv2\n",
    "import numpy as np\n",
    "import csv\n",
    "import pandas as pd\n",
    "from keras.preprocessing import image\n",
    "from tensorflow import keras\n",
    "from tensorflow import lite\n",
    "#load library untuk train test split\n",
    "from sklearn.model_selection import train_test_split\n",
    "import shutil\n",
    "from tqdm.notebook import tqdm as tq\n"
   ]
  },
  {
   "cell_type": "code",
   "execution_count": null,
   "id": "589cdc89",
   "metadata": {},
   "outputs": [],
   "source": []
  },
  {
   "cell_type": "code",
   "execution_count": 7,
   "id": "83ce1627",
   "metadata": {},
   "outputs": [
    {
     "name": "stdout",
     "output_type": "stream",
     "text": [
      "Initialised with 38 image(s) found.\n",
      "Output directory set to batuan/giokhijau\\.."
     ]
    },
    {
     "name": "stderr",
     "output_type": "stream",
     "text": [
      "Processing <PIL.Image.Image image mode=RGBA size=64x64 at 0x15349CA5BD0>: 100%|█| 1000/1000 [00:07<00:00, 133.78 Sample\n"
     ]
    },
    {
     "name": "stdout",
     "output_type": "stream",
     "text": [
      "Initialised with 22 image(s) found.\n",
      "Output directory set to batuan/kecubungungu\\.."
     ]
    },
    {
     "name": "stderr",
     "output_type": "stream",
     "text": [
      "Processing <PIL.Image.Image image mode=RGBA size=64x64 at 0x153494459F0>: 100%|█| 1000/1000 [00:05<00:00, 172.96 Sample\n"
     ]
    }
   ],
   "source": [
    "'''\n",
    "import Augmentor\n",
    "import os\n",
    "\n",
    "def perbanyak_(ini, sebanyak_ini):\n",
    "    source_dir = ini\n",
    "    output_dir = \".\"\n",
    "    p = Augmentor.Pipeline(source_directory=source_dir, output_directory=output_dir)\n",
    "    #p.random_distortion(probability=1, grid_width=4, grid_height=4, magnitude=1)\n",
    "    p.rotate(probability=0.7, max_left_rotation=13, max_right_rotation=13)\n",
    "    p.zoom_random(probability=0.5, percentage_area=0.9)\n",
    "    p.crop_random(probability=0.6, percentage_area=0.9)\n",
    "    p.resize(probability=1.0, width=64, height=64)\n",
    "\n",
    "    p.sample(sebanyak_ini)\n",
    "\n",
    "perbanyak_(\"batuan/giokhijau\", 1000)\n",
    "perbanyak_(\"batuan/kecubungungu\", 1000)\n",
    "'''\n"
   ]
  },
  {
   "cell_type": "code",
   "execution_count": 2,
   "id": "9c4bbc6b",
   "metadata": {},
   "outputs": [],
   "source": [
    "import cv2\n",
    "import glob\n",
    "import random \n",
    "import numpy as np\n",
    "\n",
    "x=[]\n",
    "y=[]\n",
    "\n",
    "for gambar in glob.glob(\"batuan/batukali/*\"):\n",
    "    ini=cv2.imread(gambar)\n",
    "    ini=cv2.resize(ini,(64,64))/255\n",
    "    x.append(ini)\n",
    "    y.append(0)\n",
    "for gambar in glob.glob(\"batuan/badarbesi/*\"):\n",
    "    ini=cv2.imread(gambar)\n",
    "    ini=cv2.resize(ini,(64,64))/255\n",
    "    x.append(ini)\n",
    "    y.append(1)\n",
    "for gambar in glob.glob(\"batuan/badarlumut/*\"):\n",
    "    ini=cv2.imread(gambar)\n",
    "    ini=cv2.resize(ini,(64,64))/255\n",
    "    x.append(ini)\n",
    "    y.append(2)\n",
    "for gambar in glob.glob(\"batuan/giokhijau/*\"):\n",
    "    ini=cv2.imread(gambar)\n",
    "    ini=cv2.resize(ini,(64,64))/255\n",
    "    x.append(ini)\n",
    "    y.append(3)\n",
    "for gambar in glob.glob(\"batuan/giokbiru/*\"):\n",
    "    ini=cv2.imread(gambar)\n",
    "    ini=cv2.resize(ini,(64,64))/255\n",
    "    x.append(ini)\n",
    "    y.append(4)\n",
    "for gambar in glob.glob(\"batuan/giokmerah/*\"):\n",
    "    ini=cv2.imread(gambar)\n",
    "    ini=cv2.resize(ini,(64,64))/255\n",
    "    x.append(ini)\n",
    "    y.append(5)\n",
    "for gambar in glob.glob(\"batuan/kecubungungu/*\"):\n",
    "    ini=cv2.imread(gambar)\n",
    "    ini=cv2.resize(ini,(64,64))/255\n",
    "    x.append(ini)\n",
    "    y.append(6)\n",
    "\n",
    "z = list(zip(x, y))\n",
    "random.shuffle(z)\n",
    "x, y = zip(*z)\n",
    "x = np.asarray(x)\n",
    "y = np.asarray(y)"
   ]
  },
  {
   "cell_type": "code",
   "execution_count": 15,
   "id": "6f52bf9a",
   "metadata": {},
   "outputs": [
    {
     "data": {
      "text/plain": [
       "(7154, 64, 64, 3)"
      ]
     },
     "execution_count": 15,
     "metadata": {},
     "output_type": "execute_result"
    }
   ],
   "source": [
    "x.shape"
   ]
  },
  {
   "cell_type": "code",
   "execution_count": 13,
   "id": "3a180c25",
   "metadata": {},
   "outputs": [
    {
     "data": {
      "text/plain": [
       "array([3, 3, 3, 3, 1, 1, 1, 5, 3, 1, 3, 1, 3, 2, 3, 1, 3, 1, 3, 1, 5, 1,\n",
       "       4, 2, 1, 1, 5, 1, 2, 5, 3, 1, 3, 5, 4, 1, 1, 1, 1, 5, 0, 1, 3, 3,\n",
       "       5, 5, 2, 4, 1, 1, 1, 5, 1, 1, 4, 1, 3, 1, 1, 3, 1, 1, 1, 1, 1, 4,\n",
       "       1, 0, 0, 1, 0, 3, 1, 1, 1, 1, 1, 1, 4, 1, 4, 5, 5, 3, 1, 1, 3, 3,\n",
       "       1, 1, 1, 1, 1, 3, 4, 2, 4, 1, 5, 4, 1, 1, 1, 1, 3, 1, 1, 2, 1, 1,\n",
       "       1, 1, 3, 4, 1, 4, 3, 3, 1, 2, 3, 1, 1, 1, 0, 3, 4, 1, 3, 3, 1, 2,\n",
       "       3, 1, 3, 1, 1, 1, 3, 0, 5, 1, 0, 4, 3, 1, 1, 0, 3, 3, 1, 2, 5, 5,\n",
       "       3, 4, 3, 0, 4, 2, 0, 1, 3, 1, 1, 2, 3, 3, 1, 1, 1, 3, 3, 1, 3, 5,\n",
       "       1, 2, 3, 1, 4, 1, 1, 2, 4, 1, 5, 3, 5, 1, 1, 1, 4, 4, 4, 3, 2, 4,\n",
       "       3, 1, 1, 3, 3, 3, 0, 5, 3, 0, 1, 3, 5, 1, 3, 1, 4, 3, 4, 0, 3, 5,\n",
       "       1, 1, 2, 5, 1, 0, 1, 4, 1, 3, 2, 4, 2, 5, 3, 5, 3, 5, 3, 5, 1, 1,\n",
       "       1, 1, 0, 1, 1, 1, 5, 3, 1, 1, 5, 3, 1, 5, 1, 3, 1, 1, 1, 1, 1, 1,\n",
       "       1, 2, 5, 5, 1, 3, 1, 5, 5, 3, 3, 1, 5, 2, 1, 1, 4, 1, 5, 1, 1, 5,\n",
       "       2, 1, 4, 1, 1, 5, 3, 1, 3, 4, 1, 5, 3, 3, 1, 4, 5, 1, 3, 3, 3, 1,\n",
       "       4, 1, 3, 3, 1, 1, 3, 2, 1, 1, 0, 5, 5, 3, 1, 3, 1, 0, 1, 1, 1, 2,\n",
       "       1, 4, 4, 1, 5, 1, 1, 3, 5, 4, 5, 2, 1, 2, 1, 0, 1, 1, 4, 1, 3, 4,\n",
       "       1, 3, 4, 3, 0, 1, 1, 2, 3, 4, 1, 4, 1, 3, 1, 4, 4, 1, 1, 3, 1, 2,\n",
       "       1, 1, 4, 1, 1, 1, 1, 1, 3, 1, 3, 1, 1, 3, 1, 1, 1, 3, 4, 3, 3, 4,\n",
       "       0, 1, 3, 3, 1, 1, 1, 3, 1, 3, 4, 4, 3, 3, 1, 1, 3, 1, 1, 3, 3, 5,\n",
       "       4, 4, 1, 5, 2, 3, 2, 1, 2, 3, 3, 1, 4, 2, 3, 1, 5, 1, 3, 4, 1, 1,\n",
       "       3, 2, 4, 1, 1, 1, 1, 3, 1, 1, 1, 4, 1, 1, 3, 1, 1, 2, 0, 0, 4, 1,\n",
       "       2, 1, 2, 4, 4, 1, 1, 3, 4, 3, 3, 1, 2, 4, 0, 5, 1, 3, 1, 4, 1, 4,\n",
       "       3, 2, 5, 5, 1, 1, 1, 1, 1, 1, 5, 2, 3, 3, 1, 3, 4, 3, 4, 3, 3, 3,\n",
       "       0, 3, 1, 1, 3, 0, 2, 1, 1, 3, 1, 2, 5, 1, 3, 1, 1, 1, 3, 1, 1, 1,\n",
       "       3, 4, 1, 2, 4, 1, 3, 1, 1, 5, 5, 1, 5, 3, 2, 1, 4, 3, 1, 5, 4, 1,\n",
       "       4, 1, 4, 1, 3, 1, 1, 4, 1, 1, 0, 1, 3, 1, 1, 1, 1, 1, 3, 4, 1, 1,\n",
       "       3, 0, 4, 1, 5, 0, 4, 3, 3, 4, 5, 1, 1, 4, 5, 1, 1, 1, 5, 3, 1, 5,\n",
       "       3, 1, 2, 5, 1, 2, 4, 1, 1, 1, 1, 4, 3, 3, 0, 4, 2, 3, 1, 1, 2, 0,\n",
       "       1, 3, 3, 3, 1, 3, 1, 1, 3, 5, 4, 5, 1, 4, 3, 1, 1, 0, 3, 1, 2, 3,\n",
       "       4, 2, 1, 1, 4, 2, 3, 4, 1, 4, 3, 0, 1, 1, 1, 1, 1, 1, 1, 3, 1, 1,\n",
       "       1, 1, 3, 3, 1, 1, 3, 3, 1, 1, 3, 3, 5, 0, 3, 1, 1, 3, 5, 1, 4, 0,\n",
       "       4, 5, 1, 3, 4, 3, 1, 3, 2, 5, 3, 3, 3, 1, 1, 1, 4, 2, 1, 3, 1, 3,\n",
       "       3, 1, 1, 3, 1, 4, 3, 1, 3, 1, 1, 5, 2, 3, 1, 1, 1, 3, 4, 1, 1, 1,\n",
       "       1, 1, 3, 2, 3, 3, 3, 1, 5, 4, 4, 1, 3, 3, 1, 1, 4, 1, 0, 1, 1, 1,\n",
       "       3, 1, 2, 1, 1, 2, 0, 1, 2, 3, 3, 0, 3, 1, 1, 3, 1, 5, 1, 3, 1, 1,\n",
       "       4, 3, 4, 3, 3, 1, 3, 1, 1, 1, 0, 4, 3, 1, 1, 5, 2, 1, 4, 4, 1, 4,\n",
       "       1, 5, 4, 4, 1, 0, 3, 1, 5, 5, 1, 1, 3, 4, 5, 1, 1, 4, 4, 3, 1, 1,\n",
       "       1, 5, 2, 2, 3, 3, 3, 3, 2, 1, 2, 3, 3, 3, 2, 3, 1, 1, 3, 4, 3, 1,\n",
       "       1, 3, 1, 3, 1, 1, 1, 3, 1, 1, 3, 4, 5, 1, 1, 4, 5, 2, 1, 5, 3, 1,\n",
       "       1, 5, 1, 1, 3, 4, 5, 2, 1, 4, 1, 3, 1, 4, 1, 1, 1, 1, 1, 5, 3, 1,\n",
       "       4, 1, 5, 1, 1, 1, 1, 1, 5, 1, 3, 1, 1, 2, 1, 2, 1, 3, 5, 5, 3, 3,\n",
       "       0, 5, 3, 3, 3, 5, 3, 1, 3, 1, 4, 0, 3, 2, 1, 3, 2, 0, 4, 4, 3, 3,\n",
       "       5, 3, 1, 5, 1, 1, 1, 1, 1, 1, 1, 1, 3, 3, 3, 1, 1, 4, 1, 1, 2, 3,\n",
       "       1, 3])"
      ]
     },
     "execution_count": 13,
     "metadata": {},
     "output_type": "execute_result"
    }
   ],
   "source": [
    "y"
   ]
  },
  {
   "cell_type": "code",
   "execution_count": 2,
   "id": "0a39ba91",
   "metadata": {},
   "outputs": [
    {
     "name": "stdout",
     "output_type": "stream",
     "text": [
      "Model: \"sequential\"\n",
      "_________________________________________________________________\n",
      " Layer (type)                Output Shape              Param #   \n",
      "=================================================================\n",
      " conv2d (Conv2D)             (None, 62, 62, 64)        1792      \n",
      "                                                                 \n",
      " conv2d_1 (Conv2D)           (None, 60, 60, 64)        36928     \n",
      "                                                                 \n",
      " max_pooling2d (MaxPooling2D  (None, 30, 30, 64)       0         \n",
      " )                                                               \n",
      "                                                                 \n",
      " conv2d_2 (Conv2D)           (None, 28, 28, 64)        36928     \n",
      "                                                                 \n",
      " conv2d_3 (Conv2D)           (None, 26, 26, 64)        36928     \n",
      "                                                                 \n",
      " max_pooling2d_1 (MaxPooling  (None, 13, 13, 64)       0         \n",
      " 2D)                                                             \n",
      "                                                                 \n",
      " conv2d_4 (Conv2D)           (None, 11, 11, 64)        36928     \n",
      "                                                                 \n",
      " conv2d_5 (Conv2D)           (None, 9, 9, 64)          36928     \n",
      "                                                                 \n",
      " max_pooling2d_2 (MaxPooling  (None, 4, 4, 64)         0         \n",
      " 2D)                                                             \n",
      "                                                                 \n",
      " flatten (Flatten)           (None, 1024)              0         \n",
      "                                                                 \n",
      " dense (Dense)               (None, 32)                32800     \n",
      "                                                                 \n",
      " dense_1 (Dense)             (None, 7)                 231       \n",
      "                                                                 \n",
      "=================================================================\n",
      "Total params: 219,463\n",
      "Trainable params: 219,463\n",
      "Non-trainable params: 0\n",
      "_________________________________________________________________\n"
     ]
    }
   ],
   "source": [
    "from tensorflow.keras.models import Sequential\n",
    "from tensorflow.keras.layers import Conv2D, MaxPooling2D, Flatten, Dense\n",
    "\n",
    "model = Sequential()\n",
    "\n",
    "model.add(Conv2D(64, (3, 3), input_shape=(64,64,3), activation=\"relu\"))\n",
    "model.add(Conv2D(64, (3, 3), activation=\"relu\"))\n",
    "model.add(MaxPooling2D(pool_size=(2, 2)))\n",
    "\n",
    "model.add(Conv2D(64, (3,3), activation=\"relu\"))\n",
    "model.add(Conv2D(64, (3,3), activation=\"relu\"))\n",
    "model.add(MaxPooling2D(pool_size=(2, 2)))\n",
    "\n",
    "\n",
    "model.add(Conv2D(64, (3, 3), activation='relu'))\n",
    "model.add(Conv2D(64, (3, 3), activation='relu'))\n",
    "model.add(MaxPooling2D(pool_size=(2, 2)))\n",
    "\n",
    "\n",
    "model.add(Flatten())\n",
    "model.add(Dense(32, activation=\"relu\"))\n",
    "model.add(Dense(7, activation=\"softmax\"))\n",
    "\n",
    "\n",
    "model.compile(optimizer=\"adam\", loss=\"sparse_categorical_crossentropy\", metrics=[\"accuracy\"])\n",
    "model.summary()"
   ]
  },
  {
   "cell_type": "code",
   "execution_count": 3,
   "id": "39e1023a",
   "metadata": {},
   "outputs": [
    {
     "name": "stdout",
     "output_type": "stream",
     "text": [
      "Epoch 1/20\n",
      "2816/2816 [==============================] - 128s 45ms/step - loss: 0.8687 - accuracy: 0.7019 - val_loss: 0.5995 - val_accuracy: 0.7324\n",
      "Epoch 2/20\n",
      "2816/2816 [==============================] - 144s 51ms/step - loss: 0.5474 - accuracy: 0.8200 - val_loss: 0.3248 - val_accuracy: 0.8680\n",
      "Epoch 3/20\n",
      "2816/2816 [==============================] - 153s 54ms/step - loss: 0.2887 - accuracy: 0.8936 - val_loss: 0.1606 - val_accuracy: 0.9347\n",
      "Epoch 4/20\n",
      "2816/2816 [==============================] - 160s 57ms/step - loss: 0.3838 - accuracy: 0.9320 - val_loss: 0.1606 - val_accuracy: 0.9432\n",
      "Epoch 5/20\n",
      "2816/2816 [==============================] - 147s 52ms/step - loss: 0.1326 - accuracy: 0.9579 - val_loss: 0.0580 - val_accuracy: 0.9794\n",
      "Epoch 6/20\n",
      "2816/2816 [==============================] - 142s 51ms/step - loss: 0.1167 - accuracy: 0.9677 - val_loss: 0.0625 - val_accuracy: 0.9773\n",
      "Epoch 7/20\n",
      "2816/2816 [==============================] - 144s 51ms/step - loss: 0.1363 - accuracy: 0.9608 - val_loss: 0.0494 - val_accuracy: 0.9837\n",
      "Epoch 8/20\n",
      "2816/2816 [==============================] - 143s 51ms/step - loss: 0.1100 - accuracy: 0.9775 - val_loss: 0.0452 - val_accuracy: 0.9830\n",
      "Epoch 9/20\n",
      "2816/2816 [==============================] - 146s 52ms/step - loss: 0.1095 - accuracy: 0.9739 - val_loss: 0.1089 - val_accuracy: 0.9695\n",
      "Epoch 10/20\n",
      "2816/2816 [==============================] - 143s 51ms/step - loss: 0.1698 - accuracy: 0.9695 - val_loss: 0.0478 - val_accuracy: 0.9851\n",
      "Epoch 11/20\n",
      "2816/2816 [==============================] - 146s 52ms/step - loss: 0.0560 - accuracy: 0.9838 - val_loss: 0.0466 - val_accuracy: 0.9851\n",
      "Epoch 12/20\n",
      "2816/2816 [==============================] - 144s 51ms/step - loss: 0.1883 - accuracy: 0.9611 - val_loss: 0.0712 - val_accuracy: 0.9794\n",
      "Epoch 13/20\n",
      "2816/2816 [==============================] - 410s 146ms/step - loss: 0.0894 - accuracy: 0.9746 - val_loss: 0.1509 - val_accuracy: 0.9489\n",
      "Epoch 14/20\n",
      "2816/2816 [==============================] - 4452s 2s/step - loss: 0.1131 - accuracy: 0.9775 - val_loss: 0.0538 - val_accuracy: 0.9808\n",
      "Epoch 15/20\n",
      "2816/2816 [==============================] - 140s 50ms/step - loss: 0.0918 - accuracy: 0.9819 - val_loss: 0.0254 - val_accuracy: 0.9922\n",
      "Epoch 16/20\n",
      "2816/2816 [==============================] - 170s 60ms/step - loss: 0.0494 - accuracy: 0.9886 - val_loss: 0.0666 - val_accuracy: 0.9808\n",
      "Epoch 17/20\n",
      "2816/2816 [==============================] - 178s 63ms/step - loss: 0.0761 - accuracy: 0.9831 - val_loss: 0.2114 - val_accuracy: 0.9688\n",
      "Epoch 18/20\n",
      "2816/2816 [==============================] - 188s 67ms/step - loss: 0.1071 - accuracy: 0.9819 - val_loss: 0.0529 - val_accuracy: 0.9865\n",
      "Epoch 19/20\n",
      "2816/2816 [==============================] - 198s 70ms/step - loss: 0.0712 - accuracy: 0.9854 - val_loss: 0.0427 - val_accuracy: 0.9851\n",
      "Epoch 20/20\n",
      "2816/2816 [==============================] - 189s 67ms/step - loss: 0.1456 - accuracy: 0.9847 - val_loss: 0.0476 - val_accuracy: 0.9879\n"
     ]
    }
   ],
   "source": [
    "history = model.fit(x,y,batch_size=2, epochs=20, validation_split=0.2)"
   ]
  },
  {
   "cell_type": "code",
   "execution_count": 6,
   "id": "00e9a293",
   "metadata": {},
   "outputs": [
    {
     "data": {
      "image/png": "[encoded data removed]",
      "text/plain": [
       "<Figure size 432x288 with 1 Axes>"
      ]
     },
     "metadata": {
      "needs_background": "light"
     },
     "output_type": "display_data"
    }
   ],
   "source": [
    "from matplotlib import pyplot as plt\n",
    "# Plot history: MAE\n",
    "plt.plot(history.history['loss'], label='Training Loss')\n",
    "plt.plot(history.history['val_loss'], label='Validation Loss')\n",
    "plt.title('Training and Validation Loss')\n",
    "plt.ylabel('value')\n",
    "plt.xlabel('No. epoch')\n",
    "plt.legend(loc=\"upper left\")\n",
    "plt.show()"
   ]
  },
  {
   "cell_type": "code",
   "execution_count": 7,
   "id": "3db2abcd",
   "metadata": {},
   "outputs": [
    {
     "data": {
      "image/png": "[encoded data removed]",
      "text/plain": [
       "<Figure size 432x288 with 1 Axes>"
      ]
     },
     "metadata": {
      "needs_background": "light"
     },
     "output_type": "display_data"
    }
   ],
   "source": [
    "# Plot history: MSE\n",
    "plt.plot(history.history['accuracy'], label='Training Accuracy')\n",
    "plt.plot(history.history['val_accuracy'], label='Validation Accuracy')\n",
    "plt.title('Training and Validation Accuracy')\n",
    "plt.ylabel('value')\n",
    "plt.xlabel('No. epoch')\n",
    "plt.legend(loc=\"upper left\")\n",
    "plt.show()"
   ]
  },
  {
   "cell_type": "code",
   "execution_count": 3,
   "id": "dec20d5c",
   "metadata": {},
   "outputs": [],
   "source": [
    "model.save('percobaan9.h5')"
   ]
  },
  {
   "cell_type": "code",
   "execution_count": 4,
   "id": "845f0e00",
   "metadata": {},
   "outputs": [],
   "source": [
    "model.load_weights('percobaan9.h5')"
   ]
  },
  {
   "cell_type": "code",
   "execution_count": 5,
   "id": "164658ed",
   "metadata": {},
   "outputs": [],
   "source": [
    "import cv2\n",
    "import glob\n",
    "import random \n",
    "import numpy as np\n",
    "\n",
    "x=[]\n",
    "y=[]\n",
    "\n",
    "for gambar in glob.glob(\"dataset/test/batukali/*\"):\n",
    "    ini=cv2.imread(gambar)\n",
    "    ini=cv2.resize(ini,(64,64))/255\n",
    "    x.append(ini)\n",
    "    y.append(0)\n",
    "for gambar in glob.glob(\"dataset/test/badarbesi/*\"):\n",
    "    ini=cv2.imread(gambar)\n",
    "    ini=cv2.resize(ini,(64,64))/255\n",
    "    x.append(ini)\n",
    "    y.append(1)\n",
    "for gambar in glob.glob(\"dataset/test/badarlumut/*\"):\n",
    "    ini=cv2.imread(gambar)\n",
    "    ini=cv2.resize(ini,(64,64))/255\n",
    "    x.append(ini)\n",
    "    y.append(2)\n",
    "for gambar in glob.glob(\"dataset/test/giokhijau/*\"):\n",
    "    ini=cv2.imread(gambar)\n",
    "    ini=cv2.resize(ini,(64,64))/255\n",
    "    x.append(ini)\n",
    "    y.append(3)\n",
    "for gambar in glob.glob(\"dataset/test/giokbiru/*\"):\n",
    "    ini=cv2.imread(gambar)\n",
    "    ini=cv2.resize(ini,(64,64))/255\n",
    "    x.append(ini)\n",
    "    y.append(4)\n",
    "for gambar in glob.glob(\"dataset/test/giokmerah/*\"):\n",
    "    ini=cv2.imread(gambar)\n",
    "    ini=cv2.resize(ini,(64,64))/255\n",
    "    x.append(ini)\n",
    "    y.append(5)\n",
    "for gambar in glob.glob(\"dataset/test/kecubungungu/*\"):\n",
    "    ini=cv2.imread(gambar)\n",
    "    ini=cv2.resize(ini,(64,64))/255\n",
    "    x.append(ini)\n",
    "    y.append(6)\n"
   ]
  },
  {
   "cell_type": "code",
   "execution_count": 6,
   "id": "24f33ec7",
   "metadata": {},
   "outputs": [
    {
     "name": "stdout",
     "output_type": "stream",
     "text": [
      "2/2 [==============================] - 0s 30ms/step\n"
     ]
    }
   ],
   "source": [
    "import numpy as np\n",
    "from sklearn.metrics import accuracy_score,confusion_matrix\n",
    "\n",
    "ypred = model.predict(np.asarray(x))\n",
    "ypred = np.argmax(ypred, axis=1)"
   ]
  },
  {
   "cell_type": "code",
   "execution_count": 7,
   "id": "f0d10a2f",
   "metadata": {},
   "outputs": [
    {
     "data": {
      "text/plain": [
       "0.13157894736842105"
      ]
     },
     "execution_count": 7,
     "metadata": {},
     "output_type": "execute_result"
    }
   ],
   "source": [
    "accuracy_score(ypred,y)"
   ]
  },
  {
   "cell_type": "code",
   "execution_count": 8,
   "id": "be0af71c",
   "metadata": {},
   "outputs": [
    {
     "data": {
      "text/plain": [
       "<matplotlib.image.AxesImage at 0x1fecb881000>"
      ]
     },
     "execution_count": 8,
     "metadata": {},
     "output_type": "execute_result"
    },
    {
     "data": {
      "image/png": "[encoded data removed]",
      "text/plain": [
       "<Figure size 432x288 with 1 Axes>"
      ]
     },
     "metadata": {
      "needs_background": "light"
     },
     "output_type": "display_data"
    }
   ],
   "source": [
    "cm= confusion_matrix(ypred,y)\n",
    "plt.imshow(cm)"
   ]
  },
  {
   "cell_type": "code",
   "execution_count": 9,
   "id": "79e16713",
   "metadata": {},
   "outputs": [
    {
     "data": {
      "text/plain": [
       "array([[0, 0, 0, 0, 0, 0, 0],\n",
       "       [0, 0, 0, 0, 0, 0, 0],\n",
       "       [6, 1, 0, 4, 1, 1, 2],\n",
       "       [1, 5, 2, 3, 3, 0, 0],\n",
       "       [0, 1, 1, 0, 2, 2, 2],\n",
       "       [0, 0, 0, 0, 0, 0, 1],\n",
       "       [0, 0, 0, 0, 0, 0, 0]], dtype=int64)"
      ]
     },
     "execution_count": 9,
     "metadata": {},
     "output_type": "execute_result"
    }
   ],
   "source": [
    "cm"
   ]
  }
 ],
 "metadata": {
  "kernelspec": {
   "display_name": "Python 3 (ipykernel)",
   "language": "python",
   "name": "python3"
  },
  "language_info": {
   "codemirror_mode": {
    "name": "ipython",
    "version": 3
   },
   "file_extension": ".py",
   "mimetype": "text/x-python",
   "name": "python",
   "nbconvert_exporter": "python",
   "pygments_lexer": "ipython3",
   "version": "3.10.1"
  }
 },
 "nbformat": 4,
 "nbformat_minor": 5
}
